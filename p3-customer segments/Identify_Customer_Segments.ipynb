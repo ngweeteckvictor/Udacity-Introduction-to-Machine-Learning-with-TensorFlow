{
 "cells": [
  {
   "cell_type": "markdown",
   "metadata": {},
   "source": [
    "# Project: Identify Customer Segments\n",
    "\n",
    "In this project, you will apply unsupervised learning techniques to identify segments of the population that form the core customer base for a mail-order sales company in Germany. These segments can then be used to direct marketing campaigns towards audiences that will have the highest expected rate of returns. The data that you will use has been provided by our partners at Bertelsmann Arvato Analytics, and represents a real-life data science task.\n",
    "\n",
    "This notebook will help you complete this task by providing a framework within which you will perform your analysis steps. In each step of the project, you will see some text describing the subtask that you will perform, followed by one or more code cells for you to complete your work. **Feel free to add additional code and markdown cells as you go along so that you can explore everything in precise chunks.** The code cells provided in the base template will outline only the major tasks, and will usually not be enough to cover all of the minor tasks that comprise it.\n",
    "\n",
    "It should be noted that while there will be precise guidelines on how you should handle certain tasks in the project, there will also be places where an exact specification is not provided. **There will be times in the project where you will need to make and justify your own decisions on how to treat the data.** These are places where there may not be only one way to handle the data. In real-life tasks, there may be many valid ways to approach an analysis task. One of the most important things you can do is clearly document your approach so that other scientists can understand the decisions you've made.\n",
    "\n",
    "At the end of most sections, there will be a Markdown cell labeled **Discussion**. In these cells, you will report your findings for the completed section, as well as document the decisions that you made in your approach to each subtask. **Your project will be evaluated not just on the code used to complete the tasks outlined, but also your communication about your observations and conclusions at each stage.**"
   ]
  },
  {
   "cell_type": "code",
   "execution_count": 1,
   "metadata": {},
   "outputs": [
    {
     "data": {
      "text/plain": [
       "'\\nImport note: The classroom currently uses sklearn version 0.19.\\nIf you need to use an imputer, it is available in sklearn.preprocessing.Imputer,\\ninstead of sklearn.impute as in newer versions of sklearn.\\n'"
      ]
     },
     "execution_count": 1,
     "metadata": {},
     "output_type": "execute_result"
    }
   ],
   "source": [
    "# import libraries here; add more as necessary\n",
    "import numpy as np\n",
    "import pandas as pd\n",
    "import matplotlib.pyplot as plt\n",
    "import seaborn as sns\n",
    "\n",
    "# additional libraries\n",
    "import matplotlib.ticker as mtick\n",
    "from sklearn.preprocessing import Imputer\n",
    "from sklearn.preprocessing import StandardScaler\n",
    "from sklearn.decomposition import PCA\n",
    "from sklearn.cluster import KMeans\n",
    "\n",
    "# magic word for producing visualizations in notebook\n",
    "%matplotlib inline\n",
    "\n",
    "'''\n",
    "Import note: The classroom currently uses sklearn version 0.19.\n",
    "If you need to use an imputer, it is available in sklearn.preprocessing.Imputer,\n",
    "instead of sklearn.impute as in newer versions of sklearn.\n",
    "'''"
   ]
  },
  {
   "cell_type": "markdown",
   "metadata": {},
   "source": [
    "### Step 0: Load the Data\n",
    "\n",
    "There are four files associated with this project (not including this one):\n",
    "\n",
    "- `Udacity_AZDIAS_Subset.csv`: Demographics data for the general population of Germany; 891211 persons (rows) x 85 features (columns).\n",
    "- `Udacity_CUSTOMERS_Subset.csv`: Demographics data for customers of a mail-order company; 191652 persons (rows) x 85 features (columns).\n",
    "- `Data_Dictionary.md`: Detailed information file about the features in the provided datasets.\n",
    "- `AZDIAS_Feature_Summary.csv`: Summary of feature attributes for demographics data; 85 features (rows) x 4 columns\n",
    "\n",
    "Each row of the demographics files represents a single person, but also includes information outside of individuals, including information about their household, building, and neighborhood. You will use this information to cluster the general population into groups with similar demographic properties. Then, you will see how the people in the customers dataset fit into those created clusters. The hope here is that certain clusters are over-represented in the customers data, as compared to the general population; those over-represented clusters will be assumed to be part of the core userbase. This information can then be used for further applications, such as targeting for a marketing campaign.\n",
    "\n",
    "To start off with, load in the demographics data for the general population into a pandas DataFrame, and do the same for the feature attributes summary. Note for all of the `.csv` data files in this project: they're semicolon (`;`) delimited, so you'll need an additional argument in your [`read_csv()`](https://pandas.pydata.org/pandas-docs/stable/generated/pandas.read_csv.html) call to read in the data properly. Also, considering the size of the main dataset, it may take some time for it to load completely.\n",
    "\n",
    "Once the dataset is loaded, it's recommended that you take a little bit of time just browsing the general structure of the dataset and feature summary file. You'll be getting deep into the innards of the cleaning in the first major step of the project, so gaining some general familiarity can help you get your bearings."
   ]
  },
  {
   "cell_type": "code",
   "execution_count": 2,
   "metadata": {},
   "outputs": [],
   "source": [
    "# Load in the general demographics data.\n",
    "azdias = pd.read_csv('Udacity_AZDIAS_Subset.csv', sep=';')\n",
    "\n",
    "# Load in the feature summary file.\n",
    "feat_info = pd.read_csv('AZDIAS_Feature_Summary.csv', sep=';')"
   ]
  },
  {
   "cell_type": "code",
   "execution_count": 3,
   "metadata": {},
   "outputs": [
    {
     "name": "stdout",
     "output_type": "stream",
     "text": [
      "The number of samples of the AZDIAS data is 891221\n",
      "The number of features of the AZDIAS data is 85\n"
     ]
    }
   ],
   "source": [
    "# Check the structure of the AZDIAS dataset after it's loaded (e.g. print the number of\n",
    "# rows and columns, print the first few rows).\n",
    "\n",
    "print('The number of samples of the AZDIAS data is', azdias.shape[0])\n",
    "print('The number of features of the AZDIAS data is', azdias.shape[1])"
   ]
  },
  {
   "cell_type": "code",
   "execution_count": 4,
   "metadata": {},
   "outputs": [
    {
     "data": {
      "text/html": [
       "<div>\n",
       "<style scoped>\n",
       "    .dataframe tbody tr th:only-of-type {\n",
       "        vertical-align: middle;\n",
       "    }\n",
       "\n",
       "    .dataframe tbody tr th {\n",
       "        vertical-align: top;\n",
       "    }\n",
       "\n",
       "    .dataframe thead th {\n",
       "        text-align: right;\n",
       "    }\n",
       "</style>\n",
       "<table border=\"1\" class=\"dataframe\">\n",
       "  <thead>\n",
       "    <tr style=\"text-align: right;\">\n",
       "      <th></th>\n",
       "      <th>AGER_TYP</th>\n",
       "      <th>ALTERSKATEGORIE_GROB</th>\n",
       "      <th>ANREDE_KZ</th>\n",
       "      <th>CJT_GESAMTTYP</th>\n",
       "      <th>FINANZ_MINIMALIST</th>\n",
       "      <th>FINANZ_SPARER</th>\n",
       "      <th>FINANZ_VORSORGER</th>\n",
       "      <th>FINANZ_ANLEGER</th>\n",
       "      <th>FINANZ_UNAUFFAELLIGER</th>\n",
       "      <th>FINANZ_HAUSBAUER</th>\n",
       "      <th>...</th>\n",
       "      <th>PLZ8_ANTG1</th>\n",
       "      <th>PLZ8_ANTG2</th>\n",
       "      <th>PLZ8_ANTG3</th>\n",
       "      <th>PLZ8_ANTG4</th>\n",
       "      <th>PLZ8_BAUMAX</th>\n",
       "      <th>PLZ8_HHZ</th>\n",
       "      <th>PLZ8_GBZ</th>\n",
       "      <th>ARBEIT</th>\n",
       "      <th>ORTSGR_KLS9</th>\n",
       "      <th>RELAT_AB</th>\n",
       "    </tr>\n",
       "  </thead>\n",
       "  <tbody>\n",
       "    <tr>\n",
       "      <th>0</th>\n",
       "      <td>-1</td>\n",
       "      <td>2</td>\n",
       "      <td>1</td>\n",
       "      <td>2.0</td>\n",
       "      <td>3</td>\n",
       "      <td>4</td>\n",
       "      <td>3</td>\n",
       "      <td>5</td>\n",
       "      <td>5</td>\n",
       "      <td>3</td>\n",
       "      <td>...</td>\n",
       "      <td>NaN</td>\n",
       "      <td>NaN</td>\n",
       "      <td>NaN</td>\n",
       "      <td>NaN</td>\n",
       "      <td>NaN</td>\n",
       "      <td>NaN</td>\n",
       "      <td>NaN</td>\n",
       "      <td>NaN</td>\n",
       "      <td>NaN</td>\n",
       "      <td>NaN</td>\n",
       "    </tr>\n",
       "    <tr>\n",
       "      <th>1</th>\n",
       "      <td>-1</td>\n",
       "      <td>1</td>\n",
       "      <td>2</td>\n",
       "      <td>5.0</td>\n",
       "      <td>1</td>\n",
       "      <td>5</td>\n",
       "      <td>2</td>\n",
       "      <td>5</td>\n",
       "      <td>4</td>\n",
       "      <td>5</td>\n",
       "      <td>...</td>\n",
       "      <td>2.0</td>\n",
       "      <td>3.0</td>\n",
       "      <td>2.0</td>\n",
       "      <td>1.0</td>\n",
       "      <td>1.0</td>\n",
       "      <td>5.0</td>\n",
       "      <td>4.0</td>\n",
       "      <td>3.0</td>\n",
       "      <td>5.0</td>\n",
       "      <td>4.0</td>\n",
       "    </tr>\n",
       "    <tr>\n",
       "      <th>2</th>\n",
       "      <td>-1</td>\n",
       "      <td>3</td>\n",
       "      <td>2</td>\n",
       "      <td>3.0</td>\n",
       "      <td>1</td>\n",
       "      <td>4</td>\n",
       "      <td>1</td>\n",
       "      <td>2</td>\n",
       "      <td>3</td>\n",
       "      <td>5</td>\n",
       "      <td>...</td>\n",
       "      <td>3.0</td>\n",
       "      <td>3.0</td>\n",
       "      <td>1.0</td>\n",
       "      <td>0.0</td>\n",
       "      <td>1.0</td>\n",
       "      <td>4.0</td>\n",
       "      <td>4.0</td>\n",
       "      <td>3.0</td>\n",
       "      <td>5.0</td>\n",
       "      <td>2.0</td>\n",
       "    </tr>\n",
       "    <tr>\n",
       "      <th>3</th>\n",
       "      <td>2</td>\n",
       "      <td>4</td>\n",
       "      <td>2</td>\n",
       "      <td>2.0</td>\n",
       "      <td>4</td>\n",
       "      <td>2</td>\n",
       "      <td>5</td>\n",
       "      <td>2</td>\n",
       "      <td>1</td>\n",
       "      <td>2</td>\n",
       "      <td>...</td>\n",
       "      <td>2.0</td>\n",
       "      <td>2.0</td>\n",
       "      <td>2.0</td>\n",
       "      <td>0.0</td>\n",
       "      <td>1.0</td>\n",
       "      <td>3.0</td>\n",
       "      <td>4.0</td>\n",
       "      <td>2.0</td>\n",
       "      <td>3.0</td>\n",
       "      <td>3.0</td>\n",
       "    </tr>\n",
       "    <tr>\n",
       "      <th>4</th>\n",
       "      <td>-1</td>\n",
       "      <td>3</td>\n",
       "      <td>1</td>\n",
       "      <td>5.0</td>\n",
       "      <td>4</td>\n",
       "      <td>3</td>\n",
       "      <td>4</td>\n",
       "      <td>1</td>\n",
       "      <td>3</td>\n",
       "      <td>2</td>\n",
       "      <td>...</td>\n",
       "      <td>2.0</td>\n",
       "      <td>4.0</td>\n",
       "      <td>2.0</td>\n",
       "      <td>1.0</td>\n",
       "      <td>2.0</td>\n",
       "      <td>3.0</td>\n",
       "      <td>3.0</td>\n",
       "      <td>4.0</td>\n",
       "      <td>6.0</td>\n",
       "      <td>5.0</td>\n",
       "    </tr>\n",
       "  </tbody>\n",
       "</table>\n",
       "<p>5 rows × 85 columns</p>\n",
       "</div>"
      ],
      "text/plain": [
       "   AGER_TYP  ALTERSKATEGORIE_GROB  ANREDE_KZ  CJT_GESAMTTYP  \\\n",
       "0        -1                     2          1            2.0   \n",
       "1        -1                     1          2            5.0   \n",
       "2        -1                     3          2            3.0   \n",
       "3         2                     4          2            2.0   \n",
       "4        -1                     3          1            5.0   \n",
       "\n",
       "   FINANZ_MINIMALIST  FINANZ_SPARER  FINANZ_VORSORGER  FINANZ_ANLEGER  \\\n",
       "0                  3              4                 3               5   \n",
       "1                  1              5                 2               5   \n",
       "2                  1              4                 1               2   \n",
       "3                  4              2                 5               2   \n",
       "4                  4              3                 4               1   \n",
       "\n",
       "   FINANZ_UNAUFFAELLIGER  FINANZ_HAUSBAUER    ...     PLZ8_ANTG1  PLZ8_ANTG2  \\\n",
       "0                      5                 3    ...            NaN         NaN   \n",
       "1                      4                 5    ...            2.0         3.0   \n",
       "2                      3                 5    ...            3.0         3.0   \n",
       "3                      1                 2    ...            2.0         2.0   \n",
       "4                      3                 2    ...            2.0         4.0   \n",
       "\n",
       "   PLZ8_ANTG3  PLZ8_ANTG4  PLZ8_BAUMAX  PLZ8_HHZ  PLZ8_GBZ  ARBEIT  \\\n",
       "0         NaN         NaN          NaN       NaN       NaN     NaN   \n",
       "1         2.0         1.0          1.0       5.0       4.0     3.0   \n",
       "2         1.0         0.0          1.0       4.0       4.0     3.0   \n",
       "3         2.0         0.0          1.0       3.0       4.0     2.0   \n",
       "4         2.0         1.0          2.0       3.0       3.0     4.0   \n",
       "\n",
       "   ORTSGR_KLS9  RELAT_AB  \n",
       "0          NaN       NaN  \n",
       "1          5.0       4.0  \n",
       "2          5.0       2.0  \n",
       "3          3.0       3.0  \n",
       "4          6.0       5.0  \n",
       "\n",
       "[5 rows x 85 columns]"
      ]
     },
     "execution_count": 4,
     "metadata": {},
     "output_type": "execute_result"
    }
   ],
   "source": [
    "# Print the first 5 rows of the AZDIAS dataset\n",
    "azdias.head()"
   ]
  },
  {
   "cell_type": "code",
   "execution_count": 5,
   "metadata": {},
   "outputs": [
    {
     "name": "stdout",
     "output_type": "stream",
     "text": [
      "<class 'pandas.core.frame.DataFrame'>\n",
      "RangeIndex: 891221 entries, 0 to 891220\n",
      "Data columns (total 85 columns):\n",
      "AGER_TYP                 891221 non-null int64\n",
      "ALTERSKATEGORIE_GROB     891221 non-null int64\n",
      "ANREDE_KZ                891221 non-null int64\n",
      "CJT_GESAMTTYP            886367 non-null float64\n",
      "FINANZ_MINIMALIST        891221 non-null int64\n",
      "FINANZ_SPARER            891221 non-null int64\n",
      "FINANZ_VORSORGER         891221 non-null int64\n",
      "FINANZ_ANLEGER           891221 non-null int64\n",
      "FINANZ_UNAUFFAELLIGER    891221 non-null int64\n",
      "FINANZ_HAUSBAUER         891221 non-null int64\n",
      "FINANZTYP                891221 non-null int64\n",
      "GEBURTSJAHR              891221 non-null int64\n",
      "GFK_URLAUBERTYP          886367 non-null float64\n",
      "GREEN_AVANTGARDE         891221 non-null int64\n",
      "HEALTH_TYP               891221 non-null int64\n",
      "LP_LEBENSPHASE_FEIN      886367 non-null float64\n",
      "LP_LEBENSPHASE_GROB      886367 non-null float64\n",
      "LP_FAMILIE_FEIN          886367 non-null float64\n",
      "LP_FAMILIE_GROB          886367 non-null float64\n",
      "LP_STATUS_FEIN           886367 non-null float64\n",
      "LP_STATUS_GROB           886367 non-null float64\n",
      "NATIONALITAET_KZ         891221 non-null int64\n",
      "PRAEGENDE_JUGENDJAHRE    891221 non-null int64\n",
      "RETOURTYP_BK_S           886367 non-null float64\n",
      "SEMIO_SOZ                891221 non-null int64\n",
      "SEMIO_FAM                891221 non-null int64\n",
      "SEMIO_REL                891221 non-null int64\n",
      "SEMIO_MAT                891221 non-null int64\n",
      "SEMIO_VERT               891221 non-null int64\n",
      "SEMIO_LUST               891221 non-null int64\n",
      "SEMIO_ERL                891221 non-null int64\n",
      "SEMIO_KULT               891221 non-null int64\n",
      "SEMIO_RAT                891221 non-null int64\n",
      "SEMIO_KRIT               891221 non-null int64\n",
      "SEMIO_DOM                891221 non-null int64\n",
      "SEMIO_KAEM               891221 non-null int64\n",
      "SEMIO_PFLICHT            891221 non-null int64\n",
      "SEMIO_TRADV              891221 non-null int64\n",
      "SHOPPER_TYP              891221 non-null int64\n",
      "SOHO_KZ                  817722 non-null float64\n",
      "TITEL_KZ                 817722 non-null float64\n",
      "VERS_TYP                 891221 non-null int64\n",
      "ZABEOTYP                 891221 non-null int64\n",
      "ALTER_HH                 817722 non-null float64\n",
      "ANZ_PERSONEN             817722 non-null float64\n",
      "ANZ_TITEL                817722 non-null float64\n",
      "HH_EINKOMMEN_SCORE       872873 non-null float64\n",
      "KK_KUNDENTYP             306609 non-null float64\n",
      "W_KEIT_KIND_HH           783619 non-null float64\n",
      "WOHNDAUER_2008           817722 non-null float64\n",
      "ANZ_HAUSHALTE_AKTIV      798073 non-null float64\n",
      "ANZ_HH_TITEL             794213 non-null float64\n",
      "GEBAEUDETYP              798073 non-null float64\n",
      "KONSUMNAEHE              817252 non-null float64\n",
      "MIN_GEBAEUDEJAHR         798073 non-null float64\n",
      "OST_WEST_KZ              798073 non-null object\n",
      "WOHNLAGE                 798073 non-null float64\n",
      "CAMEO_DEUG_2015          792242 non-null object\n",
      "CAMEO_DEU_2015           792242 non-null object\n",
      "CAMEO_INTL_2015          792242 non-null object\n",
      "KBA05_ANTG1              757897 non-null float64\n",
      "KBA05_ANTG2              757897 non-null float64\n",
      "KBA05_ANTG3              757897 non-null float64\n",
      "KBA05_ANTG4              757897 non-null float64\n",
      "KBA05_BAUMAX             757897 non-null float64\n",
      "KBA05_GBZ                757897 non-null float64\n",
      "BALLRAUM                 797481 non-null float64\n",
      "EWDICHTE                 797481 non-null float64\n",
      "INNENSTADT               797481 non-null float64\n",
      "GEBAEUDETYP_RASTER       798066 non-null float64\n",
      "KKK                      770025 non-null float64\n",
      "MOBI_REGIO               757897 non-null float64\n",
      "ONLINE_AFFINITAET        886367 non-null float64\n",
      "REGIOTYP                 770025 non-null float64\n",
      "KBA13_ANZAHL_PKW         785421 non-null float64\n",
      "PLZ8_ANTG1               774706 non-null float64\n",
      "PLZ8_ANTG2               774706 non-null float64\n",
      "PLZ8_ANTG3               774706 non-null float64\n",
      "PLZ8_ANTG4               774706 non-null float64\n",
      "PLZ8_BAUMAX              774706 non-null float64\n",
      "PLZ8_HHZ                 774706 non-null float64\n",
      "PLZ8_GBZ                 774706 non-null float64\n",
      "ARBEIT                   794005 non-null float64\n",
      "ORTSGR_KLS9              794005 non-null float64\n",
      "RELAT_AB                 794005 non-null float64\n",
      "dtypes: float64(49), int64(32), object(4)\n",
      "memory usage: 578.0+ MB\n"
     ]
    }
   ],
   "source": [
    "# Preview the AZDIAS dataset\n",
    "azdias.info()"
   ]
  },
  {
   "cell_type": "code",
   "execution_count": 6,
   "metadata": {},
   "outputs": [
    {
     "name": "stdout",
     "output_type": "stream",
     "text": [
      "The number of samples of the feature summary is 85\n",
      "The number of columns of the feature summary is 4\n"
     ]
    }
   ],
   "source": [
    "# Check the structure of the feature summary dataset after it's loaded (e.g. print the number of\n",
    "# rows and columns, print the first few rows).\n",
    "print('The number of samples of the feature summary is', feat_info.shape[0])\n",
    "print('The number of columns of the feature summary is', feat_info.shape[1])"
   ]
  },
  {
   "cell_type": "code",
   "execution_count": 7,
   "metadata": {},
   "outputs": [
    {
     "name": "stdout",
     "output_type": "stream",
     "text": [
      "                attribute information_level         type missing_or_unknown\n",
      "0                AGER_TYP            person  categorical             [-1,0]\n",
      "1    ALTERSKATEGORIE_GROB            person      ordinal           [-1,0,9]\n",
      "2               ANREDE_KZ            person  categorical             [-1,0]\n",
      "3           CJT_GESAMTTYP            person  categorical                [0]\n",
      "4       FINANZ_MINIMALIST            person      ordinal               [-1]\n",
      "5           FINANZ_SPARER            person      ordinal               [-1]\n",
      "6        FINANZ_VORSORGER            person      ordinal               [-1]\n",
      "7          FINANZ_ANLEGER            person      ordinal               [-1]\n",
      "8   FINANZ_UNAUFFAELLIGER            person      ordinal               [-1]\n",
      "9        FINANZ_HAUSBAUER            person      ordinal               [-1]\n",
      "10              FINANZTYP            person  categorical               [-1]\n",
      "11            GEBURTSJAHR            person      numeric                [0]\n",
      "12        GFK_URLAUBERTYP            person  categorical                 []\n",
      "13       GREEN_AVANTGARDE            person  categorical                 []\n",
      "14             HEALTH_TYP            person      ordinal             [-1,0]\n",
      "15    LP_LEBENSPHASE_FEIN            person        mixed                [0]\n",
      "16    LP_LEBENSPHASE_GROB            person        mixed                [0]\n",
      "17        LP_FAMILIE_FEIN            person  categorical                [0]\n",
      "18        LP_FAMILIE_GROB            person  categorical                [0]\n",
      "19         LP_STATUS_FEIN            person  categorical                [0]\n",
      "20         LP_STATUS_GROB            person  categorical                [0]\n",
      "21       NATIONALITAET_KZ            person  categorical             [-1,0]\n",
      "22  PRAEGENDE_JUGENDJAHRE            person        mixed             [-1,0]\n",
      "23         RETOURTYP_BK_S            person      ordinal                [0]\n",
      "24              SEMIO_SOZ            person      ordinal             [-1,9]\n",
      "25              SEMIO_FAM            person      ordinal             [-1,9]\n",
      "26              SEMIO_REL            person      ordinal             [-1,9]\n",
      "27              SEMIO_MAT            person      ordinal             [-1,9]\n",
      "28             SEMIO_VERT            person      ordinal             [-1,9]\n",
      "29             SEMIO_LUST            person      ordinal             [-1,9]\n",
      "..                    ...               ...          ...                ...\n",
      "55            OST_WEST_KZ          building  categorical               [-1]\n",
      "56               WOHNLAGE          building        mixed               [-1]\n",
      "57        CAMEO_DEUG_2015     microcell_rr4  categorical             [-1,X]\n",
      "58         CAMEO_DEU_2015     microcell_rr4  categorical               [XX]\n",
      "59        CAMEO_INTL_2015     microcell_rr4        mixed            [-1,XX]\n",
      "60            KBA05_ANTG1     microcell_rr3      ordinal               [-1]\n",
      "61            KBA05_ANTG2     microcell_rr3      ordinal               [-1]\n",
      "62            KBA05_ANTG3     microcell_rr3      ordinal               [-1]\n",
      "63            KBA05_ANTG4     microcell_rr3      ordinal               [-1]\n",
      "64           KBA05_BAUMAX     microcell_rr3        mixed             [-1,0]\n",
      "65              KBA05_GBZ     microcell_rr3      ordinal             [-1,0]\n",
      "66               BALLRAUM          postcode      ordinal               [-1]\n",
      "67               EWDICHTE          postcode      ordinal               [-1]\n",
      "68             INNENSTADT          postcode      ordinal               [-1]\n",
      "69     GEBAEUDETYP_RASTER        region_rr1      ordinal                 []\n",
      "70                    KKK        region_rr1      ordinal             [-1,0]\n",
      "71             MOBI_REGIO        region_rr1      ordinal                 []\n",
      "72      ONLINE_AFFINITAET        region_rr1      ordinal                 []\n",
      "73               REGIOTYP        region_rr1      ordinal             [-1,0]\n",
      "74       KBA13_ANZAHL_PKW    macrocell_plz8      numeric                 []\n",
      "75             PLZ8_ANTG1    macrocell_plz8      ordinal               [-1]\n",
      "76             PLZ8_ANTG2    macrocell_plz8      ordinal               [-1]\n",
      "77             PLZ8_ANTG3    macrocell_plz8      ordinal               [-1]\n",
      "78             PLZ8_ANTG4    macrocell_plz8      ordinal               [-1]\n",
      "79            PLZ8_BAUMAX    macrocell_plz8        mixed             [-1,0]\n",
      "80               PLZ8_HHZ    macrocell_plz8      ordinal               [-1]\n",
      "81               PLZ8_GBZ    macrocell_plz8      ordinal               [-1]\n",
      "82                 ARBEIT         community      ordinal             [-1,9]\n",
      "83            ORTSGR_KLS9         community      ordinal             [-1,0]\n",
      "84               RELAT_AB         community      ordinal             [-1,9]\n",
      "\n",
      "[85 rows x 4 columns]\n"
     ]
    }
   ],
   "source": [
    "# print the feature summary dataset\n",
    "print(feat_info)"
   ]
  },
  {
   "cell_type": "code",
   "execution_count": 8,
   "metadata": {},
   "outputs": [
    {
     "name": "stdout",
     "output_type": "stream",
     "text": [
      "<class 'pandas.core.frame.DataFrame'>\n",
      "RangeIndex: 85 entries, 0 to 84\n",
      "Data columns (total 4 columns):\n",
      "attribute             85 non-null object\n",
      "information_level     85 non-null object\n",
      "type                  85 non-null object\n",
      "missing_or_unknown    85 non-null object\n",
      "dtypes: object(4)\n",
      "memory usage: 2.7+ KB\n"
     ]
    }
   ],
   "source": [
    "#preview the feature summary dataset\n",
    "feat_info.info()"
   ]
  },
  {
   "cell_type": "markdown",
   "metadata": {},
   "source": [
    "> **Tip**: Add additional cells to keep everything in reasonably-sized chunks! Keyboard shortcut `esc --> a` (press escape to enter command mode, then press the 'A' key) adds a new cell before the active cell, and `esc --> b` adds a new cell after the active cell. If you need to convert an active cell to a markdown cell, use `esc --> m` and to convert to a code cell, use `esc --> y`. \n",
    "\n",
    "## Step 1: Preprocessing\n",
    "\n",
    "### Step 1.1: Assess Missing Data\n",
    "\n",
    "The feature summary file contains a summary of properties for each demographics data column. You will use this file to help you make cleaning decisions during this stage of the project. First of all, you should assess the demographics data in terms of missing data. Pay attention to the following points as you perform your analysis, and take notes on what you observe. Make sure that you fill in the **Discussion** cell with your findings and decisions at the end of each step that has one!\n",
    "\n",
    "#### Step 1.1.1: Convert Missing Value Codes to NaNs\n",
    "The fourth column of the feature attributes summary (loaded in above as `feat_info`) documents the codes from the data dictionary that indicate missing or unknown data. While the file encodes this as a list (e.g. `[-1,0]`), this will get read in as a string object. You'll need to do a little bit of parsing to make use of it to identify and clean the data. Convert data that matches a 'missing' or 'unknown' value code into a numpy NaN value. You might want to see how much data takes on a 'missing' or 'unknown' code, and how much data is naturally missing, as a point of interest.\n",
    "\n",
    "**As one more reminder, you are encouraged to add additional cells to break up your analysis into manageable chunks.**"
   ]
  },
  {
   "cell_type": "code",
   "execution_count": 9,
   "metadata": {},
   "outputs": [
    {
     "name": "stdout",
     "output_type": "stream",
     "text": [
      "The number of data naturally missing is 4896838\n"
     ]
    }
   ],
   "source": [
    "# Identify how much data is naturally missing\n",
    "data_naturally_missing = azdias.isna().sum().sum()\n",
    "print('The number of data naturally missing is', data_naturally_missing)"
   ]
  },
  {
   "cell_type": "code",
   "execution_count": 10,
   "metadata": {},
   "outputs": [],
   "source": [
    "# Identify and convert data that matches 'missing' or 'unknown' value code in feature summary dataset into a numpy NaN value.\n",
    "\n",
    "# Loop through the samples in the feature summary dataset, parse the values in the missing_or_unknown feature by \n",
    "# removing the [] and split the individual data back into the column\n",
    "for idx in range(feat_info.missing_or_unknown.count()):\n",
    "    feat_info.missing_or_unknown[idx] = feat_info.missing_or_unknown[idx].strip('[]').split(',')\n",
    "    \n",
    "    # Loop through the individual data in the list for the sample. If the data is an integer format, \n",
    "    # convert the string into integer.\n",
    "    # If the data is not an integer format, exception is raised. Continue the loop and keep the string format.\n",
    "    for item in range(len(feat_info.missing_or_unknown[idx])):\n",
    "        try:\n",
    "            feat_info.missing_or_unknown[idx][item] = int(feat_info.missing_or_unknown[idx][item])\n",
    "        except:\n",
    "            continue\n",
    "    \n",
    "    # Convert the samples in the azdias dataset that matches the value in the missing_or_unknown column into a numpy NaN value.\n",
    "    azdias.iloc[:, idx].replace(feat_info.missing_or_unknown[idx], np.nan, inplace=True)             "
   ]
  },
  {
   "cell_type": "code",
   "execution_count": 11,
   "metadata": {},
   "outputs": [
    {
     "name": "stdout",
     "output_type": "stream",
     "text": [
      "The total number of NAN values in the AZDIAS dataset is 8373929\n"
     ]
    }
   ],
   "source": [
    "# Identify the total number of NAN values in the AZDIAS dataset after conversion\n",
    "total_nan_values = azdias.isna().sum().sum()\n",
    "print('The total number of NAN values in the AZDIAS dataset is', total_nan_values)"
   ]
  },
  {
   "cell_type": "code",
   "execution_count": 12,
   "metadata": {},
   "outputs": [
    {
     "name": "stdout",
     "output_type": "stream",
     "text": [
      "The number of data with missing or unknown code is 3477091\n"
     ]
    }
   ],
   "source": [
    "# Identify the number of data with missing or unknown code that matches the feature summary dataset\n",
    "data_missing_unknown = total_nan_values - data_naturally_missing\n",
    "print('The number of data with missing or unknown code is', data_missing_unknown)"
   ]
  },
  {
   "cell_type": "markdown",
   "metadata": {},
   "source": [
    "#### Step 1.1.2: Assess Missing Data in Each Column\n",
    "\n",
    "How much missing data is present in each column? There are a few columns that are outliers in terms of the proportion of values that are missing. You will want to use matplotlib's [`hist()`](https://matplotlib.org/api/_as_gen/matplotlib.pyplot.hist.html) function to visualize the distribution of missing value counts to find these columns. Identify and document these columns. While some of these columns might have justifications for keeping or re-encoding the data, for this project you should just remove them from the dataframe. (Feel free to make remarks about these outlier columns in the discussion, however!)\n",
    "\n",
    "For the remaining features, are there any patterns in which columns have, or share, missing data?"
   ]
  },
  {
   "cell_type": "code",
   "execution_count": 13,
   "metadata": {},
   "outputs": [
    {
     "name": "stdout",
     "output_type": "stream",
     "text": [
      "TITEL_KZ                 889061\n",
      "AGER_TYP                 685843\n",
      "KK_KUNDENTYP             584612\n",
      "KBA05_BAUMAX             476524\n",
      "GEBURTSJAHR              392318\n",
      "ALTER_HH                 310267\n",
      "REGIOTYP                 158064\n",
      "KKK                      158064\n",
      "W_KEIT_KIND_HH           147988\n",
      "KBA05_ANTG4              133324\n",
      "KBA05_GBZ                133324\n",
      "MOBI_REGIO               133324\n",
      "KBA05_ANTG1              133324\n",
      "KBA05_ANTG2              133324\n",
      "KBA05_ANTG3              133324\n",
      "PLZ8_GBZ                 116515\n",
      "PLZ8_HHZ                 116515\n",
      "PLZ8_BAUMAX              116515\n",
      "PLZ8_ANTG4               116515\n",
      "PLZ8_ANTG1               116515\n",
      "PLZ8_ANTG3               116515\n",
      "PLZ8_ANTG2               116515\n",
      "SHOPPER_TYP              111196\n",
      "VERS_TYP                 111196\n",
      "HEALTH_TYP               111196\n",
      "NATIONALITAET_KZ         108315\n",
      "PRAEGENDE_JUGENDJAHRE    108164\n",
      "KBA13_ANZAHL_PKW         105800\n",
      "ANZ_HAUSHALTE_AKTIV       99611\n",
      "CAMEO_INTL_2015           99352\n",
      "                          ...  \n",
      "RETOURTYP_BK_S             4854\n",
      "ONLINE_AFFINITAET          4854\n",
      "LP_STATUS_FEIN             4854\n",
      "LP_STATUS_GROB             4854\n",
      "GFK_URLAUBERTYP            4854\n",
      "ALTERSKATEGORIE_GROB       2881\n",
      "FINANZTYP                     0\n",
      "GREEN_AVANTGARDE              0\n",
      "FINANZ_HAUSBAUER              0\n",
      "FINANZ_UNAUFFAELLIGER         0\n",
      "FINANZ_ANLEGER                0\n",
      "FINANZ_SPARER                 0\n",
      "FINANZ_MINIMALIST             0\n",
      "ANREDE_KZ                     0\n",
      "FINANZ_VORSORGER              0\n",
      "SEMIO_FAM                     0\n",
      "SEMIO_SOZ                     0\n",
      "SEMIO_REL                     0\n",
      "SEMIO_MAT                     0\n",
      "SEMIO_VERT                    0\n",
      "SEMIO_LUST                    0\n",
      "SEMIO_ERL                     0\n",
      "SEMIO_KULT                    0\n",
      "SEMIO_RAT                     0\n",
      "SEMIO_KRIT                    0\n",
      "SEMIO_DOM                     0\n",
      "SEMIO_KAEM                    0\n",
      "SEMIO_PFLICHT                 0\n",
      "SEMIO_TRADV                   0\n",
      "ZABEOTYP                      0\n",
      "Length: 85, dtype: int64\n"
     ]
    }
   ],
   "source": [
    "# Perform an assessment of how much missing data there is in each column of the dataset.\n",
    "# Sort the values in descending order\n",
    "missing_data_columns = azdias.isna().sum().sort_values(ascending=False)\n",
    "print(missing_data_columns)"
   ]
  },
  {
   "cell_type": "code",
   "execution_count": 14,
   "metadata": {},
   "outputs": [
    {
     "data": {
      "image/png": "[encoded data removed]",
      "text/plain": [
       "<matplotlib.figure.Figure at 0x7f29e50b0b38>"
      ]
     },
     "metadata": {
      "needs_background": "light"
     },
     "output_type": "display_data"
    }
   ],
   "source": [
    "# Plot the histogram to visualize the distribution of missing value counts in the dataset\n",
    "plt.figure(figsize=(15,8))\n",
    "plt.hist(missing_data_columns, rwidth=0.5)\n",
    "plt.ylabel(\"Number of Columns\")\n",
    "plt.xlabel(\"Missing Value Counts\")\n",
    "plt.show()"
   ]
  },
  {
   "cell_type": "code",
   "execution_count": 15,
   "metadata": {},
   "outputs": [
    {
     "data": {
      "image/png": "[encoded data removed]",
      "text/plain": [
       "<matplotlib.figure.Figure at 0x7f29e50e26d8>"
      ]
     },
     "metadata": {
      "needs_background": "light"
     },
     "output_type": "display_data"
    }
   ],
   "source": [
    "# Investigate patterns in the amount of missing data in each feature.\n",
    "plt.figure(figsize=(15,8))\n",
    "missing_data_columns.plot.bar()\n",
    "plt.xlabel('Features')\n",
    "plt.ylabel('Number of Data Missing')\n",
    "plt.show()"
   ]
  },
  {
   "cell_type": "code",
   "execution_count": 16,
   "metadata": {},
   "outputs": [],
   "source": [
    "# Remove the outlier columns from the dataset. (You'll perform other data\n",
    "# engineering tasks such as re-encoding and imputation later.)\n",
    "\n",
    "# From the histogram above, the outlier are the features with more than 200,000 missing value counts.\n",
    "# From the bar graph above, I am able to identify there are 6 features with more than 200,000 missing value counts.\n",
    "# The 6 columns are TITEL_KZ, AGER_TYP, KK_KUNDENTYP, KBA05_BAUMAX, GEBURTSJAHR and ALTER_HH.\n",
    "# Remove the 6 features from the dataset.\n",
    "\n",
    "azdias.drop(columns=['TITEL_KZ', 'AGER_TYP', 'KK_KUNDENTYP', 'KBA05_BAUMAX', 'GEBURTSJAHR', 'ALTER_HH'], inplace=True)"
   ]
  },
  {
   "cell_type": "code",
   "execution_count": 17,
   "metadata": {
    "scrolled": true
   },
   "outputs": [
    {
     "name": "stdout",
     "output_type": "stream",
     "text": [
      "AZDIAS dataset new shape is (891221, 79)\n"
     ]
    }
   ],
   "source": [
    "print('AZDIAS dataset new shape is', azdias.shape)"
   ]
  },
  {
   "cell_type": "markdown",
   "metadata": {},
   "source": [
    "#### Discussion 1.1.2: Assess Missing Data in Each Column\n",
    "\n",
    "From the histogram above, I noticed that the outliers are features with more than 200,000 missing value counts. After further investigation with the bar graph above, I am able to identify that there are 6 features with more than 200,000 missing value counts.\n",
    "\n",
    "These 6 outliers features are TITEL_KZ, AGER_TYP, KK_KUNDENTYP, KBA05_BAUMAX, GEBURTSJAHR and ALTER_HH. Therefore, they are removed from the dataset."
   ]
  },
  {
   "cell_type": "markdown",
   "metadata": {},
   "source": [
    "#### Step 1.1.3: Assess Missing Data in Each Row\n",
    "\n",
    "Now, you'll perform a similar assessment for the rows of the dataset. How much data is missing in each row? As with the columns, you should see some groups of points that have a very different numbers of missing values. Divide the data into two subsets: one for data points that are above some threshold for missing values, and a second subset for points below that threshold.\n",
    "\n",
    "In order to know what to do with the outlier rows, we should see if the distribution of data values on columns that are not missing data (or are missing very little data) are similar or different between the two groups. Select at least five of these columns and compare the distribution of values.\n",
    "- You can use seaborn's [`countplot()`](https://seaborn.pydata.org/generated/seaborn.countplot.html) function to create a bar chart of code frequencies and matplotlib's [`subplot()`](https://matplotlib.org/api/_as_gen/matplotlib.pyplot.subplot.html) function to put bar charts for the two subplots side by side.\n",
    "- To reduce repeated code, you might want to write a function that can perform this comparison, taking as one of its arguments a column to be compared.\n",
    "\n",
    "Depending on what you observe in your comparison, this will have implications on how you approach your conclusions later in the analysis. If the distributions of non-missing features look similar between the data with many missing values and the data with few or no missing values, then we could argue that simply dropping those points from the analysis won't present a major issue. On the other hand, if the data with many missing values looks very different from the data with few or no missing values, then we should make a note on those data as special. We'll revisit these data later on. **Either way, you should continue your analysis for now using just the subset of the data with few or no missing values.**"
   ]
  },
  {
   "cell_type": "code",
   "execution_count": 18,
   "metadata": {
    "scrolled": true
   },
   "outputs": [
    {
     "name": "stdout",
     "output_type": "stream",
     "text": [
      "0         43\n",
      "1          0\n",
      "2          0\n",
      "3          7\n",
      "4          0\n",
      "5          0\n",
      "6          0\n",
      "7          0\n",
      "8          0\n",
      "9          0\n",
      "10         0\n",
      "11        47\n",
      "12         6\n",
      "13         8\n",
      "14        47\n",
      "15         8\n",
      "16         6\n",
      "17        47\n",
      "18         3\n",
      "19         0\n",
      "20        10\n",
      "21         0\n",
      "22         0\n",
      "23         8\n",
      "24        47\n",
      "25         5\n",
      "26        19\n",
      "27         0\n",
      "28         0\n",
      "29         2\n",
      "          ..\n",
      "891191     0\n",
      "891192     0\n",
      "891193     0\n",
      "891194     0\n",
      "891195     0\n",
      "891196     0\n",
      "891197     0\n",
      "891198     0\n",
      "891199     0\n",
      "891200     0\n",
      "891201     0\n",
      "891202     0\n",
      "891203    14\n",
      "891204     0\n",
      "891205     0\n",
      "891206     0\n",
      "891207     0\n",
      "891208     3\n",
      "891209     0\n",
      "891210     0\n",
      "891211     0\n",
      "891212     0\n",
      "891213     0\n",
      "891214     0\n",
      "891215     0\n",
      "891216     3\n",
      "891217     4\n",
      "891218     5\n",
      "891219     0\n",
      "891220     0\n",
      "Length: 891221, dtype: int64\n"
     ]
    }
   ],
   "source": [
    "# How much data is missing in each row of the dataset?\n",
    "missing_data_rows = azdias.isna().sum(axis=1)\n",
    "print(missing_data_rows)"
   ]
  },
  {
   "cell_type": "code",
   "execution_count": 19,
   "metadata": {},
   "outputs": [
    {
     "data": {
      "image/png": "[encoded data removed]",
      "text/plain": [
       "<matplotlib.figure.Figure at 0x7f29e4f15278>"
      ]
     },
     "metadata": {
      "needs_background": "light"
     },
     "output_type": "display_data"
    }
   ],
   "source": [
    "# Plot the histogram to visualize the distribution of missing value counts in the dataset\n",
    "plt.figure(figsize=(15,8))\n",
    "plt.hist(missing_data_rows, rwidth=0.5)\n",
    "plt.ylabel(\"Number of Rows\")\n",
    "plt.xlabel(\"Missing Value Counts\")\n",
    "plt.show()"
   ]
  },
  {
   "cell_type": "code",
   "execution_count": 20,
   "metadata": {},
   "outputs": [],
   "source": [
    "# Write code to divide the data into two subsets based on the number of missing values in each row.\n",
    "\n",
    "#From the histogram above, we can select the threshold as 10\n",
    "THRESHOLD = 10\n",
    "azdias_above_threshold, azdias_below_threshold = [x for _, x in azdias.groupby(missing_data_rows <= THRESHOLD)]"
   ]
  },
  {
   "cell_type": "code",
   "execution_count": 21,
   "metadata": {},
   "outputs": [
    {
     "name": "stdout",
     "output_type": "stream",
     "text": [
      "There are 111068 samples above threshold of 10 missing value counts\n"
     ]
    }
   ],
   "source": [
    "print('There are', azdias_above_threshold.shape[0], 'samples above threshold of', THRESHOLD, 'missing value counts')"
   ]
  },
  {
   "cell_type": "code",
   "execution_count": 22,
   "metadata": {},
   "outputs": [
    {
     "name": "stdout",
     "output_type": "stream",
     "text": [
      "There are 780153 samples below threshold of 10 missing value counts\n"
     ]
    }
   ],
   "source": [
    "print('There are', azdias_below_threshold.shape[0], 'samples below threshold of', THRESHOLD, 'missing value counts')"
   ]
  },
  {
   "cell_type": "code",
   "execution_count": 23,
   "metadata": {},
   "outputs": [
    {
     "data": {
      "image/png": "[encoded data removed]",
      "text/plain": [
       "<matplotlib.figure.Figure at 0x7f29e4e72a58>"
      ]
     },
     "metadata": {
      "needs_background": "light"
     },
     "output_type": "display_data"
    }
   ],
   "source": [
    "# Compare the distribution of values for at least five columns where there are\n",
    "# no or few missing values, between the two subsets.\n",
    "\n",
    "# From the bar graph above, selected 2 features x no missing values, 2 features x few missing values \n",
    "# and 2 features x many missing values\n",
    "FEATURES_NAMES = ['FINANZ_HAUSBAUER','ZABEOTYP', 'ONLINE_AFFINITAET', 'ALTERSKATEGORIE_GROB', 'REGIOTYP', 'KKK']\n",
    "\n",
    "fig, axs = plt.subplots(len(FEATURES_NAMES), 2, figsize=(20, 35))\n",
    "for idx, feature in enumerate(azdias_below_threshold[FEATURES_NAMES]):    \n",
    "    sns.countplot(x=feature, data=azdias_below_threshold, ax=axs[idx][0]).set_title(\"Below Threshold\")\n",
    "    sns.countplot(x=feature, data=azdias_above_threshold, ax=axs[idx][1]).set_title(\"Above Threshold\")"
   ]
  },
  {
   "cell_type": "markdown",
   "metadata": {},
   "source": [
    "#### Discussion 1.1.3: Assess Missing Data in Each Row\n",
    "\n",
    "From the histogram above, I noticed that 87.5% of the samples with less than 10 missing data values. After looking at the distribution of the data values from the selected 6 features based on their number of missing values, I realised that there is not much qualitatively different between them, i.e. below or above the threshold. \n",
    "\n",
    "Therefore, simply dropping 12.5% of the samples with more than 10 missing data values from the analysis won't present a major issue."
   ]
  },
  {
   "cell_type": "markdown",
   "metadata": {},
   "source": [
    "### Step 1.2: Select and Re-Encode Features\n",
    "\n",
    "Checking for missing data isn't the only way in which you can prepare a dataset for analysis. Since the unsupervised learning techniques to be used will only work on data that is encoded numerically, you need to make a few encoding changes or additional assumptions to be able to make progress. In addition, while almost all of the values in the dataset are encoded using numbers, not all of them represent numeric values. Check the third column of the feature summary (`feat_info`) for a summary of types of measurement.\n",
    "- For numeric and interval data, these features can be kept without changes.\n",
    "- Most of the variables in the dataset are ordinal in nature. While ordinal values may technically be non-linear in spacing, make the simplifying assumption that the ordinal variables can be treated as being interval in nature (that is, kept without any changes).\n",
    "- Special handling may be necessary for the remaining two variable types: categorical, and 'mixed'.\n",
    "\n",
    "In the first two parts of this sub-step, you will perform an investigation of the categorical and mixed-type features and make a decision on each of them, whether you will keep, drop, or re-encode each. Then, in the last part, you will create a new data frame with only the selected and engineered columns.\n",
    "\n",
    "Data wrangling is often the trickiest part of the data analysis process, and there's a lot of it to be done here. But stick with it: once you're done with this step, you'll be ready to get to the machine learning parts of the project!"
   ]
  },
  {
   "cell_type": "code",
   "execution_count": 24,
   "metadata": {},
   "outputs": [
    {
     "data": {
      "text/plain": [
       "ordinal        49\n",
       "categorical    21\n",
       "numeric         7\n",
       "mixed           7\n",
       "interval        1\n",
       "Name: type, dtype: int64"
      ]
     },
     "execution_count": 24,
     "metadata": {},
     "output_type": "execute_result"
    }
   ],
   "source": [
    "# How many features are there of each data type?\n",
    "feat_info.type.value_counts()"
   ]
  },
  {
   "cell_type": "markdown",
   "metadata": {},
   "source": [
    "#### Step 1.2.1: Re-Encode Categorical Features\n",
    "\n",
    "For categorical data, you would ordinarily need to encode the levels as dummy variables. Depending on the number of categories, perform one of the following:\n",
    "- For binary (two-level) categoricals that take numeric values, you can keep them without needing to do anything.\n",
    "- There is one binary variable that takes on non-numeric values. For this one, you need to re-encode the values as numbers or create a dummy variable.\n",
    "- For multi-level categoricals (three or more values), you can choose to encode the values using multiple dummy variables (e.g. via [OneHotEncoder](http://scikit-learn.org/stable/modules/generated/sklearn.preprocessing.OneHotEncoder.html)), or (to keep things straightforward) just drop them from the analysis. As always, document your choices in the Discussion section."
   ]
  },
  {
   "cell_type": "code",
   "execution_count": 25,
   "metadata": {},
   "outputs": [
    {
     "name": "stdout",
     "output_type": "stream",
     "text": [
      "['AGER_TYP' 'ANREDE_KZ' 'CJT_GESAMTTYP' 'FINANZTYP' 'GFK_URLAUBERTYP'\n",
      " 'GREEN_AVANTGARDE' 'LP_FAMILIE_FEIN' 'LP_FAMILIE_GROB' 'LP_STATUS_FEIN'\n",
      " 'LP_STATUS_GROB' 'NATIONALITAET_KZ' 'SHOPPER_TYP' 'SOHO_KZ' 'TITEL_KZ'\n",
      " 'VERS_TYP' 'ZABEOTYP' 'KK_KUNDENTYP' 'GEBAEUDETYP' 'OST_WEST_KZ'\n",
      " 'CAMEO_DEUG_2015' 'CAMEO_DEU_2015']\n"
     ]
    }
   ],
   "source": [
    "# Assess categorical variables: which are binary, which are multi-level, and\n",
    "# which one needs to be re-encoded?\n",
    "\n",
    "# Identify the features with categorical values from the feature summary dataset\n",
    "categorical = feat_info[feat_info.type=='categorical'].attribute.values\n",
    "print(categorical)"
   ]
  },
  {
   "cell_type": "code",
   "execution_count": 26,
   "metadata": {},
   "outputs": [
    {
     "name": "stdout",
     "output_type": "stream",
     "text": [
      "ANREDE_KZ 2\n",
      "CJT_GESAMTTYP 6\n",
      "FINANZTYP 6\n",
      "GFK_URLAUBERTYP 12\n",
      "GREEN_AVANTGARDE 2\n",
      "LP_FAMILIE_FEIN 11\n",
      "LP_FAMILIE_GROB 5\n",
      "LP_STATUS_FEIN 10\n",
      "LP_STATUS_GROB 5\n",
      "NATIONALITAET_KZ 3\n",
      "SHOPPER_TYP 4\n",
      "SOHO_KZ 2\n",
      "VERS_TYP 2\n",
      "ZABEOTYP 6\n",
      "GEBAEUDETYP 7\n",
      "OST_WEST_KZ 2\n",
      "CAMEO_DEUG_2015 9\n",
      "CAMEO_DEU_2015 44\n"
     ]
    }
   ],
   "source": [
    "# Identify the features with binary or multiclass categorical values in the AZDIAS dataset\n",
    "binary = []\n",
    "multiclass = []\n",
    "\n",
    "for feature in categorical:\n",
    "    if feature in azdias_below_threshold.columns:\n",
    "        # Print the features and their number of categorical elements\n",
    "        print(feature, azdias_below_threshold[feature].nunique())\n",
    "        \n",
    "        # If the number of elements is 2, binary\n",
    "        if azdias_below_threshold[feature].nunique() == 2:\n",
    "            binary.append(feature)\n",
    "        # else if the number of elements  is more than or equal to 3, multiclass\n",
    "        elif azdias_below_threshold[feature].nunique() >= 3:\n",
    "            multiclass.append(feature)"
   ]
  },
  {
   "cell_type": "code",
   "execution_count": 27,
   "metadata": {
    "scrolled": true
   },
   "outputs": [
    {
     "name": "stdout",
     "output_type": "stream",
     "text": [
      "5 features with binary categorical elements are ['ANREDE_KZ', 'GREEN_AVANTGARDE', 'SOHO_KZ', 'VERS_TYP', 'OST_WEST_KZ']\n"
     ]
    }
   ],
   "source": [
    "print(len(binary), 'features with binary categorical elements are', binary)"
   ]
  },
  {
   "cell_type": "code",
   "execution_count": 28,
   "metadata": {},
   "outputs": [
    {
     "name": "stdout",
     "output_type": "stream",
     "text": [
      "13 features with multiclass categorical elements are ['CJT_GESAMTTYP', 'FINANZTYP', 'GFK_URLAUBERTYP', 'LP_FAMILIE_FEIN', 'LP_FAMILIE_GROB', 'LP_STATUS_FEIN', 'LP_STATUS_GROB', 'NATIONALITAET_KZ', 'SHOPPER_TYP', 'ZABEOTYP', 'GEBAEUDETYP', 'CAMEO_DEUG_2015', 'CAMEO_DEU_2015']\n"
     ]
    }
   ],
   "source": [
    "print(len(multiclass), 'features with multiclass categorical elements are', multiclass)"
   ]
  },
  {
   "cell_type": "code",
   "execution_count": 29,
   "metadata": {},
   "outputs": [
    {
     "name": "stdout",
     "output_type": "stream",
     "text": [
      "ANREDE_KZ [2 1]\n",
      "GREEN_AVANTGARDE [0 1]\n",
      "SOHO_KZ [ 1.  0.]\n",
      "VERS_TYP [  2.   1.  nan]\n",
      "OST_WEST_KZ ['W' 'O']\n"
     ]
    }
   ],
   "source": [
    "# Identify the element in the features with binary categorical values\n",
    "for feature in binary:\n",
    "    print(feature, azdias_below_threshold[feature].unique())"
   ]
  },
  {
   "cell_type": "code",
   "execution_count": 30,
   "metadata": {},
   "outputs": [],
   "source": [
    "# Re-encode categorical variable(s) to be kept in the analysis.\n",
    "# Only 'OST_WEST_KZ' feature identified with non-numerical binary elements\n",
    "# Encode the elements into numerical representation, W:0 and O:1\n",
    "azdias_below_threshold['OST_WEST_KZ'] = azdias_below_threshold['OST_WEST_KZ'].map({'W':0, 'O':1})"
   ]
  },
  {
   "cell_type": "code",
   "execution_count": 31,
   "metadata": {},
   "outputs": [
    {
     "name": "stdout",
     "output_type": "stream",
     "text": [
      "OST_WEST_KZ [0 1]\n"
     ]
    }
   ],
   "source": [
    "# Check the encoding performed correctly\n",
    "print('OST_WEST_KZ', azdias_below_threshold['OST_WEST_KZ'].unique())"
   ]
  },
  {
   "cell_type": "code",
   "execution_count": 32,
   "metadata": {},
   "outputs": [],
   "source": [
    "# Remove the multiclass categorical feature from the dataset\n",
    "azdias_below_threshold.drop(columns=multiclass, inplace=True)"
   ]
  },
  {
   "cell_type": "markdown",
   "metadata": {},
   "source": [
    "#### Discussion 1.2.1: Re-Encode Categorical Features\n",
    "\n",
    "There were 18 remaining features with categorical values left after the inital 6 features that were dropped previously.\n",
    "\n",
    "To keep things straightforward, I have decided to drop the multiclass categorical features from the dataset. Since after looking at the Data_Dictonary.md, I presumed that dropping these 13 multiclass categorical features from the analysis should not present a major issue. \n",
    "\n",
    "Binary categorical features with numerical values were kept and values in the OST_WEST_KZ were encoded to numerical representation with \"W\" to 0 and \"O\" to 1."
   ]
  },
  {
   "cell_type": "markdown",
   "metadata": {},
   "source": [
    "#### Step 1.2.2: Engineer Mixed-Type Features\n",
    "\n",
    "There are a handful of features that are marked as \"mixed\" in the feature summary that require special treatment in order to be included in the analysis. There are two in particular that deserve attention; the handling of the rest are up to your own choices:\n",
    "- \"PRAEGENDE_JUGENDJAHRE\" combines information on three dimensions: generation by decade, movement (mainstream vs. avantgarde), and nation (east vs. west). While there aren't enough levels to disentangle east from west, you should create two new variables to capture the other two dimensions: an interval-type variable for decade, and a binary variable for movement.\n",
    "- \"CAMEO_INTL_2015\" combines information on two axes: wealth and life stage. Break up the two-digit codes by their 'tens'-place and 'ones'-place digits into two new ordinal variables (which, for the purposes of this project, is equivalent to just treating them as their raw numeric values).\n",
    "- If you decide to keep or engineer new features around the other mixed-type features, make sure you note your steps in the Discussion section.\n",
    "\n",
    "Be sure to check `Data_Dictionary.md` for the details needed to finish these tasks."
   ]
  },
  {
   "cell_type": "code",
   "execution_count": 33,
   "metadata": {},
   "outputs": [],
   "source": [
    "# Identify the features with mixed values from the feature summary dataset\n",
    "mixed = feat_info[feat_info.type=='mixed'].attribute.values"
   ]
  },
  {
   "cell_type": "code",
   "execution_count": 34,
   "metadata": {},
   "outputs": [
    {
     "name": "stdout",
     "output_type": "stream",
     "text": [
      "7 features with mixed elements are ['LP_LEBENSPHASE_FEIN' 'LP_LEBENSPHASE_GROB' 'PRAEGENDE_JUGENDJAHRE'\n",
      " 'WOHNLAGE' 'CAMEO_INTL_2015' 'KBA05_BAUMAX' 'PLZ8_BAUMAX']\n"
     ]
    }
   ],
   "source": [
    "print(len(mixed), 'features with mixed elements are', mixed)"
   ]
  },
  {
   "cell_type": "code",
   "execution_count": 35,
   "metadata": {},
   "outputs": [
    {
     "name": "stdout",
     "output_type": "stream",
     "text": [
      "LP_LEBENSPHASE_FEIN 40\n",
      "LP_LEBENSPHASE_GROB 12\n",
      "PRAEGENDE_JUGENDJAHRE 15\n",
      "WOHNLAGE 8\n",
      "CAMEO_INTL_2015 21\n",
      "PLZ8_BAUMAX 5\n"
     ]
    }
   ],
   "source": [
    "# Identify the features with mixed values in the AZDIAS dataset\n",
    "for feature in mixed:\n",
    "    if feature in azdias_below_threshold.columns:\n",
    "        # Print the features and their number of mixed elements\n",
    "        print(feature, azdias_below_threshold[feature].nunique())"
   ]
  },
  {
   "cell_type": "code",
   "execution_count": 36,
   "metadata": {},
   "outputs": [],
   "source": [
    "# Note: KBA05_BAUMAX feature was already removed from the dataset\n",
    "# Remove KBA05_BAUMAX from the array\n",
    "mixed = np.delete(mixed, np.where(mixed == 'KBA05_BAUMAX'))"
   ]
  },
  {
   "cell_type": "code",
   "execution_count": 37,
   "metadata": {},
   "outputs": [
    {
     "name": "stdout",
     "output_type": "stream",
     "text": [
      "LP_LEBENSPHASE_FEIN [ 21.   3.  nan  32.   8.   2.   5.  10.   4.   6.  23.  12.  20.   1.  25.\n",
      "  13.  18.  31.  38.  35.  30.   7.  22.  14.  29.  24.  28.  37.  26.  39.\n",
      "  27.  36.   9.  34.  33.  15.  11.  40.  16.  19.  17.]\n",
      "LP_LEBENSPHASE_GROB [  6.   1.  nan  10.   2.   3.   5.   7.  12.  11.   9.   4.   8.]\n",
      "PRAEGENDE_JUGENDJAHRE [ 14.  15.   8.   3.  10.  11.   5.   9.   6.   4.  nan   2.   1.  12.  13.\n",
      "   7.]\n",
      "WOHNLAGE [ 4.  2.  7.  3.  5.  1.  8.  0.]\n",
      "CAMEO_INTL_2015 ['51' '24' '12' '43' '54' '22' '14' '13' '15' '33' '41' '34' '55' '25' nan\n",
      " '23' '31' '52' '35' '45' '44' '32']\n",
      "PLZ8_BAUMAX [  1.   2.  nan   4.   5.   3.]\n"
     ]
    }
   ],
   "source": [
    "# Identify the element in the features with mixed values\n",
    "for feature in mixed:\n",
    "        print(feature, azdias_below_threshold[feature].unique())"
   ]
  },
  {
   "cell_type": "code",
   "execution_count": 38,
   "metadata": {},
   "outputs": [],
   "source": [
    "# Investigate \"PRAEGENDE_JUGENDJAHRE\" and engineer two new variables.\n",
    "    \n",
    "# The 2 new variables are decade (interval-type) and movement (binary)\n",
    "\n",
    "# Decade map to (40, 50, 60, 70, 80, 90)\n",
    "DECADE_DICT = {\n",
    "    1: 40, 2: 40,\n",
    "    3: 50, 4: 50,\n",
    "    5: 60, 6: 60, 7: 60,\n",
    "    8: 70, 9: 70,\n",
    "    10: 80, 11: 80, 12: 80, 13: 80,\n",
    "    14: 90, 15: 90\n",
    "}\n",
    "\n",
    "azdias_below_threshold['PRAEGENDE_JUGENDJAHRE_DECADE'] = azdias_below_threshold['PRAEGENDE_JUGENDJAHRE'].map(DECADE_DICT)\n",
    "\n",
    "# Movement map to (mainstream: 0, avantgrade: 1)\n",
    "MOVEMENT_DICT = {\n",
    "    1: 0,\n",
    "    2: 1,\n",
    "    3: 0,\n",
    "    4: 1,\n",
    "    5: 0,\n",
    "    6: 1,\n",
    "    7: 1,\n",
    "    8: 0,\n",
    "    9: 1,\n",
    "    10: 0,\n",
    "    11: 1,\n",
    "    12: 0,\n",
    "    13: 1,\n",
    "    14: 0,\n",
    "    15: 1\n",
    "}\n",
    "\n",
    "azdias_below_threshold['PRAEGENDE_JUGENDJAHRE_MOVEMENT'] = azdias_below_threshold['PRAEGENDE_JUGENDJAHRE'].map(MOVEMENT_DICT)"
   ]
  },
  {
   "cell_type": "code",
   "execution_count": 39,
   "metadata": {},
   "outputs": [],
   "source": [
    "# Investigate \"CAMEO_INTL_2015\" and engineer two new variables.\n",
    "\n",
    "# The 2 new variables are CAMEO_INTL_2015 wealth (ordinal) and life stage (ordinal)\n",
    "\n",
    "azdias_below_threshold['CAMEO_INTL_2015_WEALTH'] = azdias_below_threshold['CAMEO_INTL_2015'].map(lambda x: float(x)//10)\n",
    "\n",
    "azdias_below_threshold['CAMEO_INTL_2015_LIFE_STAGE'] = azdias_below_threshold['CAMEO_INTL_2015'].map(lambda x: float(x)%10)"
   ]
  },
  {
   "cell_type": "code",
   "execution_count": 40,
   "metadata": {},
   "outputs": [],
   "source": [
    "# Remove the 'PRAEGENDE_JUGENDJAHRE' feature from the AZDIAS dataset since it had been engineered into 2 other variables\n",
    "azdias_below_threshold.drop(columns='PRAEGENDE_JUGENDJAHRE', inplace=True)\n",
    "\n",
    "# Remove the 'CAMEO_INTL_2015' feature from the AZDIAS dataset since it had been engineered into 2 other variables\n",
    "azdias_below_threshold.drop(columns='CAMEO_INTL_2015', inplace=True)\n",
    "\n",
    "# Remove the 'LP_LEBENSPHASE_FEIN' feature from the AZDIAS dataset since it is similiar data as 'LP_LEBENSPHASE_GROB' feature\n",
    "azdias_below_threshold.drop(columns='LP_LEBENSPHASE_FEIN', inplace=True)"
   ]
  },
  {
   "cell_type": "markdown",
   "metadata": {},
   "source": [
    "#### Discussion 1.2.2: Engineer Mixed-Type Features\n",
    "\n",
    "There were 6 remaining features with mixed values in the AZDIAS dataset.\n",
    "\n",
    "Both 'PRAEGENDE_JUGENDJAHRE' and 'CAMEO_INTL_2015' features had been engineered into 2 other variables by re-encoded to match their defined variables. Both features were subsequently removed after the engineering steps.\n",
    "\n",
    "Since 'LP_LEBENSPHASE_FEIN' feature captured similiar data as 'LP_LEBENSPHASE_GROB' feature, I had decided to removed that feature from the dataset too."
   ]
  },
  {
   "cell_type": "markdown",
   "metadata": {},
   "source": [
    "#### Step 1.2.3: Complete Feature Selection\n",
    "\n",
    "In order to finish this step up, you need to make sure that your data frame now only has the columns that you want to keep. To summarize, the dataframe should consist of the following:\n",
    "- All numeric, interval, and ordinal type columns from the original dataset.\n",
    "- Binary categorical features (all numerically-encoded).\n",
    "- Engineered features from other multi-level categorical features and mixed features.\n",
    "\n",
    "Make sure that for any new columns that you have engineered, that you've excluded the original columns from the final dataset. Otherwise, their values will interfere with the analysis later on the project. For example, you should not keep \"PRAEGENDE_JUGENDJAHRE\", since its values won't be useful for the algorithm: only the values derived from it in the engineered features you created should be retained. As a reminder, your data should only be from **the subset with few or no missing values**."
   ]
  },
  {
   "cell_type": "code",
   "execution_count": 41,
   "metadata": {},
   "outputs": [],
   "source": [
    "# If there are other re-engineering tasks you need to perform, make sure you\n",
    "# take care of them here. (Dealing with missing data will come in step 2.1.)"
   ]
  },
  {
   "cell_type": "code",
   "execution_count": 42,
   "metadata": {},
   "outputs": [
    {
     "name": "stdout",
     "output_type": "stream",
     "text": [
      "The new shape of the AZDIAS dataset after feature selection is (780153, 67)\n"
     ]
    }
   ],
   "source": [
    "# The new shape of the AZDIAS dataset\n",
    "print('The new shape of the AZDIAS dataset after feature selection is', azdias_below_threshold.shape)"
   ]
  },
  {
   "cell_type": "code",
   "execution_count": 43,
   "metadata": {},
   "outputs": [
    {
     "name": "stdout",
     "output_type": "stream",
     "text": [
      "<class 'pandas.core.frame.DataFrame'>\n",
      "Int64Index: 780153 entries, 1 to 891220\n",
      "Data columns (total 67 columns):\n",
      "ALTERSKATEGORIE_GROB              777528 non-null float64\n",
      "ANREDE_KZ                         780153 non-null int64\n",
      "FINANZ_MINIMALIST                 780153 non-null int64\n",
      "FINANZ_SPARER                     780153 non-null int64\n",
      "FINANZ_VORSORGER                  780153 non-null int64\n",
      "FINANZ_ANLEGER                    780153 non-null int64\n",
      "FINANZ_UNAUFFAELLIGER             780153 non-null int64\n",
      "FINANZ_HAUSBAUER                  780153 non-null int64\n",
      "GREEN_AVANTGARDE                  780153 non-null int64\n",
      "HEALTH_TYP                        745629 non-null float64\n",
      "LP_LEBENSPHASE_GROB               736259 non-null float64\n",
      "RETOURTYP_BK_S                    776319 non-null float64\n",
      "SEMIO_SOZ                         780153 non-null int64\n",
      "SEMIO_FAM                         780153 non-null int64\n",
      "SEMIO_REL                         780153 non-null int64\n",
      "SEMIO_MAT                         780153 non-null int64\n",
      "SEMIO_VERT                        780153 non-null int64\n",
      "SEMIO_LUST                        780153 non-null int64\n",
      "SEMIO_ERL                         780153 non-null int64\n",
      "SEMIO_KULT                        780153 non-null int64\n",
      "SEMIO_RAT                         780153 non-null int64\n",
      "SEMIO_KRIT                        780153 non-null int64\n",
      "SEMIO_DOM                         780153 non-null int64\n",
      "SEMIO_KAEM                        780153 non-null int64\n",
      "SEMIO_PFLICHT                     780153 non-null int64\n",
      "SEMIO_TRADV                       780153 non-null int64\n",
      "SOHO_KZ                           780153 non-null float64\n",
      "VERS_TYP                          745629 non-null float64\n",
      "ANZ_PERSONEN                      780153 non-null float64\n",
      "ANZ_TITEL                         780153 non-null float64\n",
      "HH_EINKOMMEN_SCORE                780153 non-null float64\n",
      "W_KEIT_KIND_HH                    723871 non-null float64\n",
      "WOHNDAUER_2008                    780153 non-null float64\n",
      "ANZ_HAUSHALTE_AKTIV               774413 non-null float64\n",
      "ANZ_HH_TITEL                      776920 non-null float64\n",
      "KONSUMNAEHE                       780102 non-null float64\n",
      "MIN_GEBAEUDEJAHR                  780153 non-null float64\n",
      "OST_WEST_KZ                       780153 non-null int64\n",
      "WOHNLAGE                          780153 non-null float64\n",
      "KBA05_ANTG1                       755696 non-null float64\n",
      "KBA05_ANTG2                       755696 non-null float64\n",
      "KBA05_ANTG3                       755696 non-null float64\n",
      "KBA05_ANTG4                       755696 non-null float64\n",
      "KBA05_GBZ                         755696 non-null float64\n",
      "BALLRAUM                          779610 non-null float64\n",
      "EWDICHTE                          779610 non-null float64\n",
      "INNENSTADT                        779610 non-null float64\n",
      "GEBAEUDETYP_RASTER                780148 non-null float64\n",
      "KKK                               725375 non-null float64\n",
      "MOBI_REGIO                        755696 non-null float64\n",
      "ONLINE_AFFINITAET                 776319 non-null float64\n",
      "REGIOTYP                          725375 non-null float64\n",
      "KBA13_ANZAHL_PKW                  774493 non-null float64\n",
      "PLZ8_ANTG1                        772038 non-null float64\n",
      "PLZ8_ANTG2                        772038 non-null float64\n",
      "PLZ8_ANTG3                        772038 non-null float64\n",
      "PLZ8_ANTG4                        772038 non-null float64\n",
      "PLZ8_BAUMAX                       772038 non-null float64\n",
      "PLZ8_HHZ                          772038 non-null float64\n",
      "PLZ8_GBZ                          772038 non-null float64\n",
      "ARBEIT                            776154 non-null float64\n",
      "ORTSGR_KLS9                       776246 non-null float64\n",
      "RELAT_AB                          776154 non-null float64\n",
      "PRAEGENDE_JUGENDJAHRE_DECADE      753679 non-null float64\n",
      "PRAEGENDE_JUGENDJAHRE_MOVEMENT    753679 non-null float64\n",
      "CAMEO_INTL_2015_WEALTH            776497 non-null float64\n",
      "CAMEO_INTL_2015_LIFE_STAGE        776497 non-null float64\n",
      "dtypes: float64(44), int64(23)\n",
      "memory usage: 424.7 MB\n"
     ]
    }
   ],
   "source": [
    "# Preview the dataset and check the elements in the features are all numerically-encoded\n",
    "azdias_below_threshold.info()"
   ]
  },
  {
   "cell_type": "code",
   "execution_count": 44,
   "metadata": {},
   "outputs": [],
   "source": [
    "# Do whatever you need to in order to ensure that the dataframe only contains\n",
    "# the columns that should be passed to the algorithm functions."
   ]
  },
  {
   "cell_type": "markdown",
   "metadata": {},
   "source": [
    "### Step 1.3: Create a Cleaning Function\n",
    "\n",
    "Even though you've finished cleaning up the general population demographics data, it's important to look ahead to the future and realize that you'll need to perform the same cleaning steps on the customer demographics data. In this substep, complete the function below to execute the main feature selection, encoding, and re-engineering steps you performed above. Then, when it comes to looking at the customer data in Step 3, you can just run this function on that DataFrame to get the trimmed dataset in a single step."
   ]
  },
  {
   "cell_type": "code",
   "execution_count": 45,
   "metadata": {},
   "outputs": [],
   "source": [
    "def clean_data(df):\n",
    "    \"\"\"\n",
    "    Perform feature trimming, re-encoding, and engineering for demographics\n",
    "    data\n",
    "    \n",
    "    INPUT: Demographics DataFrame\n",
    "    OUTPUT: Trimmed and cleaned demographics DataFrame\n",
    "    \"\"\"\n",
    "    \n",
    "    # Put in code here to execute all main cleaning steps:\n",
    "        \n",
    "    # Load in the feature summary file.\n",
    "    feat_info = pd.read_csv('AZDIAS_Feature_Summary.csv', sep=';')\n",
    "\n",
    "    #-----------------------------------------------------------------------------------------------------------------\n",
    "    \n",
    "    # Identify and convert data that matches 'missing' or 'unknown' value code in feature summary dataset into \n",
    "    # a numpy NaN value.\n",
    "\n",
    "    # Loop through the samples in the feature summary dataset, parse the values in the missing_or_unknown feature by \n",
    "    # removing the [] and split the individual data back into the column\n",
    "    for idx in range(feat_info.missing_or_unknown.count()):\n",
    "        feat_info.missing_or_unknown[idx] = feat_info.missing_or_unknown[idx].strip('[]').split(',')\n",
    "    \n",
    "        # Loop through the individual data in the list for the sample. If the data is an integer format, \n",
    "        # convert the string into integer.\n",
    "        # If the data is not an integer format, exception is raised. Continue the loop and keep the string format.\n",
    "        for item in range(len(feat_info.missing_or_unknown[idx])):\n",
    "            try:\n",
    "                feat_info.missing_or_unknown[idx][item] = int(feat_info.missing_or_unknown[idx][item])\n",
    "            except:\n",
    "                continue\n",
    "    \n",
    "        # Convert the samples in the azdias dataset that matches the value in the missing_or_unknown column \n",
    "        # into a numpy NaN value.\n",
    "        df.iloc[:, idx].replace(feat_info.missing_or_unknown[idx], np.nan, inplace=True)\n",
    "    \n",
    "    #-----------------------------------------------------------------------------------------------------------------\n",
    "    \n",
    "    # remove selected columns and rows, ...\n",
    "    # Remove the 6 features from the dataset.\n",
    "    df.drop(columns=['TITEL_KZ', 'AGER_TYP', 'KK_KUNDENTYP', 'KBA05_BAUMAX', 'GEBURTSJAHR', 'ALTER_HH'], inplace=True)\n",
    "\n",
    "    #-----------------------------------------------------------------------------------------------------------------\n",
    "    \n",
    "    # Continue to use only df_below_threshold dataset\n",
    "    THRESHOLD = 10\n",
    "    missing_data_rows = df.isna().sum(axis=1)\n",
    "    df_above_threshold, df_below_threshold = [x for _, x in df.groupby(missing_data_rows <= THRESHOLD)]\n",
    "    \n",
    "    #-----------------------------------------------------------------------------------------------------------------\n",
    "    \n",
    "    # select, re-encode, and engineer column values.\n",
    "    \n",
    "    # Identify the features with categorical values from the feature summary dataset\n",
    "    categorical = feat_info[feat_info.type=='categorical'].attribute.values\n",
    "\n",
    "    # Identify the features with binary or multiclass categorical values in the AZDIAS dataset\n",
    "    multiclass = []\n",
    "\n",
    "    for feature in categorical:\n",
    "        if feature in df_below_threshold.columns:\n",
    "            # If the number of elements is more than or equal to 3, multiclass\n",
    "            if df_below_threshold[feature].nunique() >= 3:\n",
    "                multiclass.append(feature)\n",
    "    \n",
    "    # Only 'OST_WEST_KZ' feature identified with non-numerical binary elements\n",
    "    # Encode the elements into numerical representation, W:0 and O:1\n",
    "    df_below_threshold['OST_WEST_KZ'] = df_below_threshold['OST_WEST_KZ'].map({'W':0, 'O':1})\n",
    "    \n",
    "    # Remove the multiclass categorical feature from the dataset \n",
    "    df_below_threshold.drop(columns=multiclass, inplace=True)\n",
    "    \n",
    "    #-----------------------------------------------------------------------------------------------------------------\n",
    "    \n",
    "    # Investigate \"PRAEGENDE_JUGENDJAHRE\" and engineer two new variables.\n",
    "    \n",
    "    # The 2 new variables are decade (interval-type) and movement (binary)\n",
    "\n",
    "    # Decade map to (40, 50, 60, 70, 80, 90)\n",
    "    DECADE_DICT = {\n",
    "        1: 40, 2: 40,\n",
    "        3: 50, 4: 50,\n",
    "        5: 60, 6: 60, 7: 60,\n",
    "        8: 70, 9: 70,\n",
    "        10: 80, 11: 80, 12: 80, 13: 80,\n",
    "        14: 90, 15: 90\n",
    "    }\n",
    "\n",
    "    df_below_threshold['PRAEGENDE_JUGENDJAHRE_DECADE'] = df_below_threshold['PRAEGENDE_JUGENDJAHRE'].map(DECADE_DICT)\n",
    "\n",
    "    # Movement map to (mainstream: 0, avantgrade: 1)\n",
    "    MOVEMENT_DICT = {\n",
    "        1: 0,\n",
    "        2: 1,\n",
    "        3: 0,\n",
    "        4: 1,\n",
    "        5: 0,\n",
    "        6: 1,\n",
    "        7: 1,\n",
    "        8: 0,\n",
    "        9: 1,\n",
    "        10: 0,\n",
    "        11: 1,\n",
    "        12: 0,\n",
    "        13: 1,\n",
    "        14: 0,\n",
    "        15: 1\n",
    "    }\n",
    "\n",
    "    df_below_threshold['PRAEGENDE_JUGENDJAHRE_MOVEMENT'] = df_below_threshold['PRAEGENDE_JUGENDJAHRE'].map(MOVEMENT_DICT)\n",
    "\n",
    "    # Investigate \"CAMEO_INTL_2015\" and engineer two new variables.\n",
    "\n",
    "    # The 2 new variables areCAMEO_INTL_2015 wealth (ordinal) and life stage (ordinal)\n",
    "\n",
    "    df_below_threshold['CAMEO_INTL_2015_WEALTH'] = df_below_threshold['CAMEO_INTL_2015'].map(lambda x: float(x)//10)\n",
    "\n",
    "    df_below_threshold['CAMEO_INTL_2015_LIFE_STAGE'] = df_below_threshold['CAMEO_INTL_2015'].map(lambda x: float(x)%10)\n",
    "\n",
    "    # Remove the 'PRAEGENDE_JUGENDJAHRE' feature from the AZDIAS dataset since it had been engineered into 2 other variables\n",
    "    df_below_threshold.drop(columns='PRAEGENDE_JUGENDJAHRE', inplace=True)\n",
    "\n",
    "    # Remove the 'CAMEO_INTL_2015' feature from the AZDIAS dataset since it had been engineered into 2 other variables\n",
    "    df_below_threshold.drop(columns='CAMEO_INTL_2015', inplace=True)\n",
    "\n",
    "    # Remove the 'LP_LEBENSPHASE_FEIN' feature from the AZDIAS dataset since it is similiar data as \n",
    "    # 'LP_LEBENSPHASE_GROB' feature\n",
    "    df_below_threshold.drop(columns='LP_LEBENSPHASE_FEIN', inplace=True)\n",
    "\n",
    "    #-----------------------------------------------------------------------------------------------------------------\n",
    "\n",
    "    # Return the cleaned dataframe\n",
    "    return df_below_threshold\n",
    "    "
   ]
  },
  {
   "cell_type": "code",
   "execution_count": 46,
   "metadata": {},
   "outputs": [
    {
     "name": "stdout",
     "output_type": "stream",
     "text": [
      "<class 'pandas.core.frame.DataFrame'>\n",
      "RangeIndex: 891221 entries, 0 to 891220\n",
      "Data columns (total 85 columns):\n",
      "AGER_TYP                 891221 non-null int64\n",
      "ALTERSKATEGORIE_GROB     891221 non-null int64\n",
      "ANREDE_KZ                891221 non-null int64\n",
      "CJT_GESAMTTYP            886367 non-null float64\n",
      "FINANZ_MINIMALIST        891221 non-null int64\n",
      "FINANZ_SPARER            891221 non-null int64\n",
      "FINANZ_VORSORGER         891221 non-null int64\n",
      "FINANZ_ANLEGER           891221 non-null int64\n",
      "FINANZ_UNAUFFAELLIGER    891221 non-null int64\n",
      "FINANZ_HAUSBAUER         891221 non-null int64\n",
      "FINANZTYP                891221 non-null int64\n",
      "GEBURTSJAHR              891221 non-null int64\n",
      "GFK_URLAUBERTYP          886367 non-null float64\n",
      "GREEN_AVANTGARDE         891221 non-null int64\n",
      "HEALTH_TYP               891221 non-null int64\n",
      "LP_LEBENSPHASE_FEIN      886367 non-null float64\n",
      "LP_LEBENSPHASE_GROB      886367 non-null float64\n",
      "LP_FAMILIE_FEIN          886367 non-null float64\n",
      "LP_FAMILIE_GROB          886367 non-null float64\n",
      "LP_STATUS_FEIN           886367 non-null float64\n",
      "LP_STATUS_GROB           886367 non-null float64\n",
      "NATIONALITAET_KZ         891221 non-null int64\n",
      "PRAEGENDE_JUGENDJAHRE    891221 non-null int64\n",
      "RETOURTYP_BK_S           886367 non-null float64\n",
      "SEMIO_SOZ                891221 non-null int64\n",
      "SEMIO_FAM                891221 non-null int64\n",
      "SEMIO_REL                891221 non-null int64\n",
      "SEMIO_MAT                891221 non-null int64\n",
      "SEMIO_VERT               891221 non-null int64\n",
      "SEMIO_LUST               891221 non-null int64\n",
      "SEMIO_ERL                891221 non-null int64\n",
      "SEMIO_KULT               891221 non-null int64\n",
      "SEMIO_RAT                891221 non-null int64\n",
      "SEMIO_KRIT               891221 non-null int64\n",
      "SEMIO_DOM                891221 non-null int64\n",
      "SEMIO_KAEM               891221 non-null int64\n",
      "SEMIO_PFLICHT            891221 non-null int64\n",
      "SEMIO_TRADV              891221 non-null int64\n",
      "SHOPPER_TYP              891221 non-null int64\n",
      "SOHO_KZ                  817722 non-null float64\n",
      "TITEL_KZ                 817722 non-null float64\n",
      "VERS_TYP                 891221 non-null int64\n",
      "ZABEOTYP                 891221 non-null int64\n",
      "ALTER_HH                 817722 non-null float64\n",
      "ANZ_PERSONEN             817722 non-null float64\n",
      "ANZ_TITEL                817722 non-null float64\n",
      "HH_EINKOMMEN_SCORE       872873 non-null float64\n",
      "KK_KUNDENTYP             306609 non-null float64\n",
      "W_KEIT_KIND_HH           783619 non-null float64\n",
      "WOHNDAUER_2008           817722 non-null float64\n",
      "ANZ_HAUSHALTE_AKTIV      798073 non-null float64\n",
      "ANZ_HH_TITEL             794213 non-null float64\n",
      "GEBAEUDETYP              798073 non-null float64\n",
      "KONSUMNAEHE              817252 non-null float64\n",
      "MIN_GEBAEUDEJAHR         798073 non-null float64\n",
      "OST_WEST_KZ              798073 non-null object\n",
      "WOHNLAGE                 798073 non-null float64\n",
      "CAMEO_DEUG_2015          792242 non-null object\n",
      "CAMEO_DEU_2015           792242 non-null object\n",
      "CAMEO_INTL_2015          792242 non-null object\n",
      "KBA05_ANTG1              757897 non-null float64\n",
      "KBA05_ANTG2              757897 non-null float64\n",
      "KBA05_ANTG3              757897 non-null float64\n",
      "KBA05_ANTG4              757897 non-null float64\n",
      "KBA05_BAUMAX             757897 non-null float64\n",
      "KBA05_GBZ                757897 non-null float64\n",
      "BALLRAUM                 797481 non-null float64\n",
      "EWDICHTE                 797481 non-null float64\n",
      "INNENSTADT               797481 non-null float64\n",
      "GEBAEUDETYP_RASTER       798066 non-null float64\n",
      "KKK                      770025 non-null float64\n",
      "MOBI_REGIO               757897 non-null float64\n",
      "ONLINE_AFFINITAET        886367 non-null float64\n",
      "REGIOTYP                 770025 non-null float64\n",
      "KBA13_ANZAHL_PKW         785421 non-null float64\n",
      "PLZ8_ANTG1               774706 non-null float64\n",
      "PLZ8_ANTG2               774706 non-null float64\n",
      "PLZ8_ANTG3               774706 non-null float64\n",
      "PLZ8_ANTG4               774706 non-null float64\n",
      "PLZ8_BAUMAX              774706 non-null float64\n",
      "PLZ8_HHZ                 774706 non-null float64\n",
      "PLZ8_GBZ                 774706 non-null float64\n",
      "ARBEIT                   794005 non-null float64\n",
      "ORTSGR_KLS9              794005 non-null float64\n",
      "RELAT_AB                 794005 non-null float64\n",
      "dtypes: float64(49), int64(32), object(4)\n",
      "memory usage: 578.0+ MB\n"
     ]
    }
   ],
   "source": [
    "# Load in the general demographics data.\n",
    "azdias = pd.read_csv('Udacity_AZDIAS_Subset.csv', sep=';')\n",
    "\n",
    "#azdias before cleaning\n",
    "azdias.info()"
   ]
  },
  {
   "cell_type": "code",
   "execution_count": 47,
   "metadata": {},
   "outputs": [
    {
     "name": "stdout",
     "output_type": "stream",
     "text": [
      "<class 'pandas.core.frame.DataFrame'>\n",
      "Int64Index: 780153 entries, 1 to 891220\n",
      "Data columns (total 67 columns):\n",
      "ALTERSKATEGORIE_GROB              777528 non-null float64\n",
      "ANREDE_KZ                         780153 non-null int64\n",
      "FINANZ_MINIMALIST                 780153 non-null int64\n",
      "FINANZ_SPARER                     780153 non-null int64\n",
      "FINANZ_VORSORGER                  780153 non-null int64\n",
      "FINANZ_ANLEGER                    780153 non-null int64\n",
      "FINANZ_UNAUFFAELLIGER             780153 non-null int64\n",
      "FINANZ_HAUSBAUER                  780153 non-null int64\n",
      "GREEN_AVANTGARDE                  780153 non-null int64\n",
      "HEALTH_TYP                        745629 non-null float64\n",
      "LP_LEBENSPHASE_GROB               736259 non-null float64\n",
      "RETOURTYP_BK_S                    776319 non-null float64\n",
      "SEMIO_SOZ                         780153 non-null int64\n",
      "SEMIO_FAM                         780153 non-null int64\n",
      "SEMIO_REL                         780153 non-null int64\n",
      "SEMIO_MAT                         780153 non-null int64\n",
      "SEMIO_VERT                        780153 non-null int64\n",
      "SEMIO_LUST                        780153 non-null int64\n",
      "SEMIO_ERL                         780153 non-null int64\n",
      "SEMIO_KULT                        780153 non-null int64\n",
      "SEMIO_RAT                         780153 non-null int64\n",
      "SEMIO_KRIT                        780153 non-null int64\n",
      "SEMIO_DOM                         780153 non-null int64\n",
      "SEMIO_KAEM                        780153 non-null int64\n",
      "SEMIO_PFLICHT                     780153 non-null int64\n",
      "SEMIO_TRADV                       780153 non-null int64\n",
      "SOHO_KZ                           780153 non-null float64\n",
      "VERS_TYP                          745629 non-null float64\n",
      "ANZ_PERSONEN                      780153 non-null float64\n",
      "ANZ_TITEL                         780153 non-null float64\n",
      "HH_EINKOMMEN_SCORE                780153 non-null float64\n",
      "W_KEIT_KIND_HH                    723871 non-null float64\n",
      "WOHNDAUER_2008                    780153 non-null float64\n",
      "ANZ_HAUSHALTE_AKTIV               774413 non-null float64\n",
      "ANZ_HH_TITEL                      776920 non-null float64\n",
      "KONSUMNAEHE                       780102 non-null float64\n",
      "MIN_GEBAEUDEJAHR                  780153 non-null float64\n",
      "OST_WEST_KZ                       780153 non-null int64\n",
      "WOHNLAGE                          780153 non-null float64\n",
      "KBA05_ANTG1                       755696 non-null float64\n",
      "KBA05_ANTG2                       755696 non-null float64\n",
      "KBA05_ANTG3                       755696 non-null float64\n",
      "KBA05_ANTG4                       755696 non-null float64\n",
      "KBA05_GBZ                         755696 non-null float64\n",
      "BALLRAUM                          779610 non-null float64\n",
      "EWDICHTE                          779610 non-null float64\n",
      "INNENSTADT                        779610 non-null float64\n",
      "GEBAEUDETYP_RASTER                780148 non-null float64\n",
      "KKK                               725375 non-null float64\n",
      "MOBI_REGIO                        755696 non-null float64\n",
      "ONLINE_AFFINITAET                 776319 non-null float64\n",
      "REGIOTYP                          725375 non-null float64\n",
      "KBA13_ANZAHL_PKW                  774493 non-null float64\n",
      "PLZ8_ANTG1                        772038 non-null float64\n",
      "PLZ8_ANTG2                        772038 non-null float64\n",
      "PLZ8_ANTG3                        772038 non-null float64\n",
      "PLZ8_ANTG4                        772038 non-null float64\n",
      "PLZ8_BAUMAX                       772038 non-null float64\n",
      "PLZ8_HHZ                          772038 non-null float64\n",
      "PLZ8_GBZ                          772038 non-null float64\n",
      "ARBEIT                            776154 non-null float64\n",
      "ORTSGR_KLS9                       776246 non-null float64\n",
      "RELAT_AB                          776154 non-null float64\n",
      "PRAEGENDE_JUGENDJAHRE_DECADE      753679 non-null float64\n",
      "PRAEGENDE_JUGENDJAHRE_MOVEMENT    753679 non-null float64\n",
      "CAMEO_INTL_2015_WEALTH            776497 non-null float64\n",
      "CAMEO_INTL_2015_LIFE_STAGE        776497 non-null float64\n",
      "dtypes: float64(44), int64(23)\n",
      "memory usage: 404.7 MB\n"
     ]
    }
   ],
   "source": [
    "# Cleaning the dataset\n",
    "azdias = clean_data(azdias)\n",
    "\n",
    "#azdias after cleaning\n",
    "azdias.info()"
   ]
  },
  {
   "cell_type": "markdown",
   "metadata": {},
   "source": [
    "## Step 2: Feature Transformation\n",
    "\n",
    "### Step 2.1: Apply Feature Scaling\n",
    "\n",
    "Before we apply dimensionality reduction techniques to the data, we need to perform feature scaling so that the principal component vectors are not influenced by the natural differences in scale for features. Starting from this part of the project, you'll want to keep an eye on the [API reference page for sklearn](http://scikit-learn.org/stable/modules/classes.html) to help you navigate to all of the classes and functions that you'll need. In this substep, you'll need to check the following:\n",
    "\n",
    "- sklearn requires that data not have missing values in order for its estimators to work properly. So, before applying the scaler to your data, make sure that you've cleaned the DataFrame of the remaining missing values. This can be as simple as just removing all data points with missing data, or applying an [Imputer](https://scikit-learn.org/0.16/modules/generated/sklearn.preprocessing.Imputer.html) to replace all missing values. You might also try a more complicated procedure where you temporarily remove missing values in order to compute the scaling parameters before re-introducing those missing values and applying imputation. Think about how much missing data you have and what possible effects each approach might have on your analysis, and justify your decision in the discussion section below.\n",
    "- For the actual scaling function, a [StandardScaler](http://scikit-learn.org/stable/modules/generated/sklearn.preprocessing.StandardScaler.html) instance is suggested, scaling each feature to mean 0 and standard deviation 1.\n",
    "- For these classes, you can make use of the `.fit_transform()` method to both fit a procedure to the data as well as apply the transformation to the data at the same time. Don't forget to keep the fit sklearn objects handy, since you'll be applying them to the customer demographics data towards the end of the project."
   ]
  },
  {
   "cell_type": "code",
   "execution_count": 48,
   "metadata": {},
   "outputs": [],
   "source": [
    "# If you've not yet cleaned the dataset of all NaN values, then investigate and\n",
    "# do that now.\n",
    "\n",
    "# Applying Imputer to replace all NaN values using the mean along the axis\n",
    "azdias_imputer = Imputer()\n",
    "azdias_imputer_transformed = pd.DataFrame(azdias_imputer.fit_transform(azdias), columns=azdias.columns)"
   ]
  },
  {
   "cell_type": "code",
   "execution_count": 49,
   "metadata": {},
   "outputs": [
    {
     "data": {
      "text/html": [
       "<div>\n",
       "<style scoped>\n",
       "    .dataframe tbody tr th:only-of-type {\n",
       "        vertical-align: middle;\n",
       "    }\n",
       "\n",
       "    .dataframe tbody tr th {\n",
       "        vertical-align: top;\n",
       "    }\n",
       "\n",
       "    .dataframe thead th {\n",
       "        text-align: right;\n",
       "    }\n",
       "</style>\n",
       "<table border=\"1\" class=\"dataframe\">\n",
       "  <thead>\n",
       "    <tr style=\"text-align: right;\">\n",
       "      <th></th>\n",
       "      <th>ALTERSKATEGORIE_GROB</th>\n",
       "      <th>ANREDE_KZ</th>\n",
       "      <th>FINANZ_MINIMALIST</th>\n",
       "      <th>FINANZ_SPARER</th>\n",
       "      <th>FINANZ_VORSORGER</th>\n",
       "      <th>FINANZ_ANLEGER</th>\n",
       "      <th>FINANZ_UNAUFFAELLIGER</th>\n",
       "      <th>FINANZ_HAUSBAUER</th>\n",
       "      <th>GREEN_AVANTGARDE</th>\n",
       "      <th>HEALTH_TYP</th>\n",
       "      <th>...</th>\n",
       "      <th>PLZ8_BAUMAX</th>\n",
       "      <th>PLZ8_HHZ</th>\n",
       "      <th>PLZ8_GBZ</th>\n",
       "      <th>ARBEIT</th>\n",
       "      <th>ORTSGR_KLS9</th>\n",
       "      <th>RELAT_AB</th>\n",
       "      <th>PRAEGENDE_JUGENDJAHRE_DECADE</th>\n",
       "      <th>PRAEGENDE_JUGENDJAHRE_MOVEMENT</th>\n",
       "      <th>CAMEO_INTL_2015_WEALTH</th>\n",
       "      <th>CAMEO_INTL_2015_LIFE_STAGE</th>\n",
       "    </tr>\n",
       "  </thead>\n",
       "  <tbody>\n",
       "    <tr>\n",
       "      <th>0</th>\n",
       "      <td>1.0</td>\n",
       "      <td>2.0</td>\n",
       "      <td>1.0</td>\n",
       "      <td>5.0</td>\n",
       "      <td>2.0</td>\n",
       "      <td>5.0</td>\n",
       "      <td>4.0</td>\n",
       "      <td>5.0</td>\n",
       "      <td>0.0</td>\n",
       "      <td>3.0</td>\n",
       "      <td>...</td>\n",
       "      <td>1.0</td>\n",
       "      <td>5.0</td>\n",
       "      <td>4.0</td>\n",
       "      <td>3.0</td>\n",
       "      <td>5.0</td>\n",
       "      <td>4.0</td>\n",
       "      <td>90.0</td>\n",
       "      <td>0.0</td>\n",
       "      <td>5.0</td>\n",
       "      <td>1.0</td>\n",
       "    </tr>\n",
       "    <tr>\n",
       "      <th>1</th>\n",
       "      <td>3.0</td>\n",
       "      <td>2.0</td>\n",
       "      <td>1.0</td>\n",
       "      <td>4.0</td>\n",
       "      <td>1.0</td>\n",
       "      <td>2.0</td>\n",
       "      <td>3.0</td>\n",
       "      <td>5.0</td>\n",
       "      <td>1.0</td>\n",
       "      <td>3.0</td>\n",
       "      <td>...</td>\n",
       "      <td>1.0</td>\n",
       "      <td>4.0</td>\n",
       "      <td>4.0</td>\n",
       "      <td>3.0</td>\n",
       "      <td>5.0</td>\n",
       "      <td>2.0</td>\n",
       "      <td>90.0</td>\n",
       "      <td>1.0</td>\n",
       "      <td>2.0</td>\n",
       "      <td>4.0</td>\n",
       "    </tr>\n",
       "    <tr>\n",
       "      <th>2</th>\n",
       "      <td>4.0</td>\n",
       "      <td>2.0</td>\n",
       "      <td>4.0</td>\n",
       "      <td>2.0</td>\n",
       "      <td>5.0</td>\n",
       "      <td>2.0</td>\n",
       "      <td>1.0</td>\n",
       "      <td>2.0</td>\n",
       "      <td>0.0</td>\n",
       "      <td>2.0</td>\n",
       "      <td>...</td>\n",
       "      <td>1.0</td>\n",
       "      <td>3.0</td>\n",
       "      <td>4.0</td>\n",
       "      <td>2.0</td>\n",
       "      <td>3.0</td>\n",
       "      <td>3.0</td>\n",
       "      <td>70.0</td>\n",
       "      <td>0.0</td>\n",
       "      <td>1.0</td>\n",
       "      <td>2.0</td>\n",
       "    </tr>\n",
       "    <tr>\n",
       "      <th>3</th>\n",
       "      <td>3.0</td>\n",
       "      <td>1.0</td>\n",
       "      <td>4.0</td>\n",
       "      <td>3.0</td>\n",
       "      <td>4.0</td>\n",
       "      <td>1.0</td>\n",
       "      <td>3.0</td>\n",
       "      <td>2.0</td>\n",
       "      <td>0.0</td>\n",
       "      <td>3.0</td>\n",
       "      <td>...</td>\n",
       "      <td>2.0</td>\n",
       "      <td>3.0</td>\n",
       "      <td>3.0</td>\n",
       "      <td>4.0</td>\n",
       "      <td>6.0</td>\n",
       "      <td>5.0</td>\n",
       "      <td>70.0</td>\n",
       "      <td>0.0</td>\n",
       "      <td>4.0</td>\n",
       "      <td>3.0</td>\n",
       "    </tr>\n",
       "    <tr>\n",
       "      <th>4</th>\n",
       "      <td>1.0</td>\n",
       "      <td>2.0</td>\n",
       "      <td>3.0</td>\n",
       "      <td>1.0</td>\n",
       "      <td>5.0</td>\n",
       "      <td>2.0</td>\n",
       "      <td>2.0</td>\n",
       "      <td>5.0</td>\n",
       "      <td>0.0</td>\n",
       "      <td>3.0</td>\n",
       "      <td>...</td>\n",
       "      <td>1.0</td>\n",
       "      <td>5.0</td>\n",
       "      <td>5.0</td>\n",
       "      <td>2.0</td>\n",
       "      <td>3.0</td>\n",
       "      <td>3.0</td>\n",
       "      <td>50.0</td>\n",
       "      <td>0.0</td>\n",
       "      <td>5.0</td>\n",
       "      <td>4.0</td>\n",
       "    </tr>\n",
       "  </tbody>\n",
       "</table>\n",
       "<p>5 rows × 67 columns</p>\n",
       "</div>"
      ],
      "text/plain": [
       "   ALTERSKATEGORIE_GROB  ANREDE_KZ  FINANZ_MINIMALIST  FINANZ_SPARER  \\\n",
       "0                   1.0        2.0                1.0            5.0   \n",
       "1                   3.0        2.0                1.0            4.0   \n",
       "2                   4.0        2.0                4.0            2.0   \n",
       "3                   3.0        1.0                4.0            3.0   \n",
       "4                   1.0        2.0                3.0            1.0   \n",
       "\n",
       "   FINANZ_VORSORGER  FINANZ_ANLEGER  FINANZ_UNAUFFAELLIGER  FINANZ_HAUSBAUER  \\\n",
       "0               2.0             5.0                    4.0               5.0   \n",
       "1               1.0             2.0                    3.0               5.0   \n",
       "2               5.0             2.0                    1.0               2.0   \n",
       "3               4.0             1.0                    3.0               2.0   \n",
       "4               5.0             2.0                    2.0               5.0   \n",
       "\n",
       "   GREEN_AVANTGARDE  HEALTH_TYP             ...              PLZ8_BAUMAX  \\\n",
       "0               0.0         3.0             ...                      1.0   \n",
       "1               1.0         3.0             ...                      1.0   \n",
       "2               0.0         2.0             ...                      1.0   \n",
       "3               0.0         3.0             ...                      2.0   \n",
       "4               0.0         3.0             ...                      1.0   \n",
       "\n",
       "   PLZ8_HHZ  PLZ8_GBZ  ARBEIT  ORTSGR_KLS9  RELAT_AB  \\\n",
       "0       5.0       4.0     3.0          5.0       4.0   \n",
       "1       4.0       4.0     3.0          5.0       2.0   \n",
       "2       3.0       4.0     2.0          3.0       3.0   \n",
       "3       3.0       3.0     4.0          6.0       5.0   \n",
       "4       5.0       5.0     2.0          3.0       3.0   \n",
       "\n",
       "   PRAEGENDE_JUGENDJAHRE_DECADE  PRAEGENDE_JUGENDJAHRE_MOVEMENT  \\\n",
       "0                          90.0                             0.0   \n",
       "1                          90.0                             1.0   \n",
       "2                          70.0                             0.0   \n",
       "3                          70.0                             0.0   \n",
       "4                          50.0                             0.0   \n",
       "\n",
       "   CAMEO_INTL_2015_WEALTH  CAMEO_INTL_2015_LIFE_STAGE  \n",
       "0                     5.0                         1.0  \n",
       "1                     2.0                         4.0  \n",
       "2                     1.0                         2.0  \n",
       "3                     4.0                         3.0  \n",
       "4                     5.0                         4.0  \n",
       "\n",
       "[5 rows x 67 columns]"
      ]
     },
     "execution_count": 49,
     "metadata": {},
     "output_type": "execute_result"
    }
   ],
   "source": [
    "azdias_imputer_transformed.head()"
   ]
  },
  {
   "cell_type": "code",
   "execution_count": 50,
   "metadata": {},
   "outputs": [],
   "source": [
    "# Apply feature scaling to the general population demographics data.\n",
    "azdias_scaler = StandardScaler()\n",
    "azdias_ss_transformed = pd.DataFrame(azdias_scaler.fit_transform(azdias_imputer_transformed), columns=azdias.columns)"
   ]
  },
  {
   "cell_type": "code",
   "execution_count": 51,
   "metadata": {
    "scrolled": true
   },
   "outputs": [
    {
     "data": {
      "text/html": [
       "<div>\n",
       "<style scoped>\n",
       "    .dataframe tbody tr th:only-of-type {\n",
       "        vertical-align: middle;\n",
       "    }\n",
       "\n",
       "    .dataframe tbody tr th {\n",
       "        vertical-align: top;\n",
       "    }\n",
       "\n",
       "    .dataframe thead th {\n",
       "        text-align: right;\n",
       "    }\n",
       "</style>\n",
       "<table border=\"1\" class=\"dataframe\">\n",
       "  <thead>\n",
       "    <tr style=\"text-align: right;\">\n",
       "      <th></th>\n",
       "      <th>ALTERSKATEGORIE_GROB</th>\n",
       "      <th>ANREDE_KZ</th>\n",
       "      <th>FINANZ_MINIMALIST</th>\n",
       "      <th>FINANZ_SPARER</th>\n",
       "      <th>FINANZ_VORSORGER</th>\n",
       "      <th>FINANZ_ANLEGER</th>\n",
       "      <th>FINANZ_UNAUFFAELLIGER</th>\n",
       "      <th>FINANZ_HAUSBAUER</th>\n",
       "      <th>GREEN_AVANTGARDE</th>\n",
       "      <th>HEALTH_TYP</th>\n",
       "      <th>...</th>\n",
       "      <th>PLZ8_BAUMAX</th>\n",
       "      <th>PLZ8_HHZ</th>\n",
       "      <th>PLZ8_GBZ</th>\n",
       "      <th>ARBEIT</th>\n",
       "      <th>ORTSGR_KLS9</th>\n",
       "      <th>RELAT_AB</th>\n",
       "      <th>PRAEGENDE_JUGENDJAHRE_DECADE</th>\n",
       "      <th>PRAEGENDE_JUGENDJAHRE_MOVEMENT</th>\n",
       "      <th>CAMEO_INTL_2015_WEALTH</th>\n",
       "      <th>CAMEO_INTL_2015_LIFE_STAGE</th>\n",
       "    </tr>\n",
       "  </thead>\n",
       "  <tbody>\n",
       "    <tr>\n",
       "      <th>0</th>\n",
       "      <td>-1.767099</td>\n",
       "      <td>0.958395</td>\n",
       "      <td>-1.488140</td>\n",
       "      <td>1.539080</td>\n",
       "      <td>-1.045251</td>\n",
       "      <td>1.467273</td>\n",
       "      <td>0.980071</td>\n",
       "      <td>1.326876</td>\n",
       "      <td>-0.531199</td>\n",
       "      <td>1.078455</td>\n",
       "      <td>...</td>\n",
       "      <td>-0.650770</td>\n",
       "      <td>1.432164</td>\n",
       "      <td>0.560535</td>\n",
       "      <td>-0.175058</td>\n",
       "      <td>-0.133526</td>\n",
       "      <td>0.679265</td>\n",
       "      <td>1.169476</td>\n",
       "      <td>-0.552603</td>\n",
       "      <td>1.180325</td>\n",
       "      <td>-1.260258</td>\n",
       "    </tr>\n",
       "    <tr>\n",
       "      <th>1</th>\n",
       "      <td>0.198771</td>\n",
       "      <td>0.958395</td>\n",
       "      <td>-1.488140</td>\n",
       "      <td>0.866538</td>\n",
       "      <td>-1.771610</td>\n",
       "      <td>-0.569041</td>\n",
       "      <td>0.262544</td>\n",
       "      <td>1.326876</td>\n",
       "      <td>1.882535</td>\n",
       "      <td>1.078455</td>\n",
       "      <td>...</td>\n",
       "      <td>-0.650770</td>\n",
       "      <td>0.399701</td>\n",
       "      <td>0.560535</td>\n",
       "      <td>-0.175058</td>\n",
       "      <td>-0.133526</td>\n",
       "      <td>-0.795823</td>\n",
       "      <td>1.169476</td>\n",
       "      <td>1.873182</td>\n",
       "      <td>-0.871579</td>\n",
       "      <td>0.760774</td>\n",
       "    </tr>\n",
       "    <tr>\n",
       "      <th>2</th>\n",
       "      <td>1.181706</td>\n",
       "      <td>0.958395</td>\n",
       "      <td>0.688928</td>\n",
       "      <td>-0.478545</td>\n",
       "      <td>1.133828</td>\n",
       "      <td>-0.569041</td>\n",
       "      <td>-1.172510</td>\n",
       "      <td>-0.817895</td>\n",
       "      <td>-0.531199</td>\n",
       "      <td>-0.276116</td>\n",
       "      <td>...</td>\n",
       "      <td>-0.650770</td>\n",
       "      <td>-0.632762</td>\n",
       "      <td>0.560535</td>\n",
       "      <td>-1.180812</td>\n",
       "      <td>-1.004438</td>\n",
       "      <td>-0.058279</td>\n",
       "      <td>-0.225811</td>\n",
       "      <td>-0.552603</td>\n",
       "      <td>-1.555547</td>\n",
       "      <td>-0.586581</td>\n",
       "    </tr>\n",
       "    <tr>\n",
       "      <th>3</th>\n",
       "      <td>0.198771</td>\n",
       "      <td>-1.043411</td>\n",
       "      <td>0.688928</td>\n",
       "      <td>0.193996</td>\n",
       "      <td>0.407468</td>\n",
       "      <td>-1.247812</td>\n",
       "      <td>0.262544</td>\n",
       "      <td>-0.817895</td>\n",
       "      <td>-0.531199</td>\n",
       "      <td>1.078455</td>\n",
       "      <td>...</td>\n",
       "      <td>0.037619</td>\n",
       "      <td>-0.632762</td>\n",
       "      <td>-0.343723</td>\n",
       "      <td>0.830695</td>\n",
       "      <td>0.301929</td>\n",
       "      <td>1.416808</td>\n",
       "      <td>-0.225811</td>\n",
       "      <td>-0.552603</td>\n",
       "      <td>0.496357</td>\n",
       "      <td>0.087097</td>\n",
       "    </tr>\n",
       "    <tr>\n",
       "      <th>4</th>\n",
       "      <td>-1.767099</td>\n",
       "      <td>0.958395</td>\n",
       "      <td>-0.036761</td>\n",
       "      <td>-1.151087</td>\n",
       "      <td>1.133828</td>\n",
       "      <td>-0.569041</td>\n",
       "      <td>-0.454983</td>\n",
       "      <td>1.326876</td>\n",
       "      <td>-0.531199</td>\n",
       "      <td>1.078455</td>\n",
       "      <td>...</td>\n",
       "      <td>-0.650770</td>\n",
       "      <td>1.432164</td>\n",
       "      <td>1.464792</td>\n",
       "      <td>-1.180812</td>\n",
       "      <td>-1.004438</td>\n",
       "      <td>-0.058279</td>\n",
       "      <td>-1.621097</td>\n",
       "      <td>-0.552603</td>\n",
       "      <td>1.180325</td>\n",
       "      <td>0.760774</td>\n",
       "    </tr>\n",
       "  </tbody>\n",
       "</table>\n",
       "<p>5 rows × 67 columns</p>\n",
       "</div>"
      ],
      "text/plain": [
       "   ALTERSKATEGORIE_GROB  ANREDE_KZ  FINANZ_MINIMALIST  FINANZ_SPARER  \\\n",
       "0             -1.767099   0.958395          -1.488140       1.539080   \n",
       "1              0.198771   0.958395          -1.488140       0.866538   \n",
       "2              1.181706   0.958395           0.688928      -0.478545   \n",
       "3              0.198771  -1.043411           0.688928       0.193996   \n",
       "4             -1.767099   0.958395          -0.036761      -1.151087   \n",
       "\n",
       "   FINANZ_VORSORGER  FINANZ_ANLEGER  FINANZ_UNAUFFAELLIGER  FINANZ_HAUSBAUER  \\\n",
       "0         -1.045251        1.467273               0.980071          1.326876   \n",
       "1         -1.771610       -0.569041               0.262544          1.326876   \n",
       "2          1.133828       -0.569041              -1.172510         -0.817895   \n",
       "3          0.407468       -1.247812               0.262544         -0.817895   \n",
       "4          1.133828       -0.569041              -0.454983          1.326876   \n",
       "\n",
       "   GREEN_AVANTGARDE  HEALTH_TYP             ...              PLZ8_BAUMAX  \\\n",
       "0         -0.531199    1.078455             ...                -0.650770   \n",
       "1          1.882535    1.078455             ...                -0.650770   \n",
       "2         -0.531199   -0.276116             ...                -0.650770   \n",
       "3         -0.531199    1.078455             ...                 0.037619   \n",
       "4         -0.531199    1.078455             ...                -0.650770   \n",
       "\n",
       "   PLZ8_HHZ  PLZ8_GBZ    ARBEIT  ORTSGR_KLS9  RELAT_AB  \\\n",
       "0  1.432164  0.560535 -0.175058    -0.133526  0.679265   \n",
       "1  0.399701  0.560535 -0.175058    -0.133526 -0.795823   \n",
       "2 -0.632762  0.560535 -1.180812    -1.004438 -0.058279   \n",
       "3 -0.632762 -0.343723  0.830695     0.301929  1.416808   \n",
       "4  1.432164  1.464792 -1.180812    -1.004438 -0.058279   \n",
       "\n",
       "   PRAEGENDE_JUGENDJAHRE_DECADE  PRAEGENDE_JUGENDJAHRE_MOVEMENT  \\\n",
       "0                      1.169476                       -0.552603   \n",
       "1                      1.169476                        1.873182   \n",
       "2                     -0.225811                       -0.552603   \n",
       "3                     -0.225811                       -0.552603   \n",
       "4                     -1.621097                       -0.552603   \n",
       "\n",
       "   CAMEO_INTL_2015_WEALTH  CAMEO_INTL_2015_LIFE_STAGE  \n",
       "0                1.180325                   -1.260258  \n",
       "1               -0.871579                    0.760774  \n",
       "2               -1.555547                   -0.586581  \n",
       "3                0.496357                    0.087097  \n",
       "4                1.180325                    0.760774  \n",
       "\n",
       "[5 rows x 67 columns]"
      ]
     },
     "execution_count": 51,
     "metadata": {},
     "output_type": "execute_result"
    }
   ],
   "source": [
    "azdias_ss_transformed.head()"
   ]
  },
  {
   "cell_type": "markdown",
   "metadata": {},
   "source": [
    "### Discussion 2.1: Apply Feature Scaling\n",
    "\n",
    "In order for Scikit-Learn estimators to work properly, I had applied the Imputer before feature scaling to replace all the NaN values in the samples with the mean value along their features. The results are subsequently scaled using StandardScaler.\n",
    "\n",
    "The order of whether Imputer or scaling is to apply first should not affect our model as both functions use the mean values, thus does not skew the dataset a lot."
   ]
  },
  {
   "cell_type": "markdown",
   "metadata": {},
   "source": [
    "### Step 2.2: Perform Dimensionality Reduction\n",
    "\n",
    "On your scaled data, you are now ready to apply dimensionality reduction techniques.\n",
    "\n",
    "- Use sklearn's [PCA](http://scikit-learn.org/stable/modules/generated/sklearn.decomposition.PCA.html) class to apply principal component analysis on the data, thus finding the vectors of maximal variance in the data. To start, you should not set any parameters (so all components are computed) or set a number of components that is at least half the number of features (so there's enough features to see the general trend in variability).\n",
    "- Check out the ratio of variance explained by each principal component as well as the cumulative variance explained. Try plotting the cumulative or sequential values using matplotlib's [`plot()`](https://matplotlib.org/api/_as_gen/matplotlib.pyplot.plot.html) function. Based on what you find, select a value for the number of transformed features you'll retain for the clustering part of the project.\n",
    "- Once you've made a choice for the number of components to keep, make sure you re-fit a PCA instance to perform the decided-on transformation."
   ]
  },
  {
   "cell_type": "code",
   "execution_count": 52,
   "metadata": {},
   "outputs": [],
   "source": [
    "# Apply PCA to the data.\n",
    "azdias_pca = PCA()\n",
    "azdias_pca_transformed = azdias_pca.fit_transform(azdias_ss_transformed)"
   ]
  },
  {
   "cell_type": "code",
   "execution_count": 53,
   "metadata": {},
   "outputs": [
    {
     "data": {
      "image/png": "[encoded data removed]",
      "text/plain": [
       "<matplotlib.figure.Figure at 0x7f29e4f2fc50>"
      ]
     },
     "metadata": {
      "needs_background": "light"
     },
     "output_type": "display_data"
    }
   ],
   "source": [
    "# Investigate the variance accounted for by each principal component.\n",
    "fig, axs = plt.subplots(1, 2, figsize=(15, 8))\n",
    "\n",
    "n_component = range(len(azdias_pca.explained_variance_ratio_))\n",
    "axs[0].bar(n_component, azdias_pca.explained_variance_ratio_)\n",
    "axs[0].yaxis.set_major_formatter(mtick.PercentFormatter(1.0))\n",
    "axs[0].set_xlabel('Principal Component')\n",
    "axs[0].set_ylabel('Variance Explained (%)')\n",
    "axs[0].set_title('Explained Variance Per Principal Component')\n",
    "\n",
    "axs[1].plot(n_component, np.cumsum(azdias_pca.explained_variance_ratio_))\n",
    "axs[1].yaxis.set_major_formatter(mtick.PercentFormatter(1.0))\n",
    "axs[1].set_xlabel('Principal Component')\n",
    "axs[1].set_ylabel('Variance Explained (%)')\n",
    "axs[1].set_title('Cumulative Variance')\n",
    "    \n",
    "plt.show() "
   ]
  },
  {
   "cell_type": "code",
   "execution_count": 54,
   "metadata": {},
   "outputs": [],
   "source": [
    "# Re-apply PCA to the data while selecting for number of components to retain.\n",
    "# To retain 20 components as they are able to explain about 80% of the variances\n",
    "RETAIN_COMPONENTS = 20\n",
    "azdias_pca_20 = PCA(n_components=RETAIN_COMPONENTS)\n",
    "azdias_pca_transformed = azdias_pca_20.fit_transform(azdias_ss_transformed)"
   ]
  },
  {
   "cell_type": "markdown",
   "metadata": {},
   "source": [
    "### Discussion 2.2: Perform Dimensionality Reduction\n",
    "\n",
    "After investigate the variance accounted for by each principal component, I had decided to retain 20 components as they are able to explain about 80% of the variances. "
   ]
  },
  {
   "cell_type": "markdown",
   "metadata": {},
   "source": [
    "### Step 2.3: Interpret Principal Components\n",
    "\n",
    "Now that we have our transformed principal components, it's a nice idea to check out the weight of each variable on the first few components to see if they can be interpreted in some fashion.\n",
    "\n",
    "As a reminder, each principal component is a unit vector that points in the direction of highest variance (after accounting for the variance captured by earlier principal components). The further a weight is from zero, the more the principal component is in the direction of the corresponding feature. If two features have large weights of the same sign (both positive or both negative), then increases in one tend expect to be associated with increases in the other. To contrast, features with different signs can be expected to show a negative correlation: increases in one variable should result in a decrease in the other.\n",
    "\n",
    "- To investigate the features, you should map each weight to their corresponding feature name, then sort the features according to weight. The most interesting features for each principal component, then, will be those at the beginning and end of the sorted list. Use the data dictionary document to help you understand these most prominent features, their relationships, and what a positive or negative value on the principal component might indicate.\n",
    "- You should investigate and interpret feature associations from the first three principal components in this substep. To help facilitate this, you should write a function that you can call at any time to print the sorted list of feature weights, for the *i*-th principal component. This might come in handy in the next step of the project, when you interpret the tendencies of the discovered clusters."
   ]
  },
  {
   "cell_type": "code",
   "execution_count": 55,
   "metadata": {},
   "outputs": [],
   "source": [
    "# HINT: Try defining a function here or in a new cell that you can reuse in the other cells.\n",
    "\n",
    "# Map weights for the principal component to corresponding feature names\n",
    "# and then return the linked values, sorted by weight.\n",
    "def pca_map_feat(n_component):\n",
    "    return pd.DataFrame(\n",
    "        azdias_pca_20.components_[n_component-1], \n",
    "        columns=['Weight'], \n",
    "        index=azdias_ss_transformed.columns).sort_values(by=['Weight'], ascending=False)"
   ]
  },
  {
   "cell_type": "code",
   "execution_count": 56,
   "metadata": {},
   "outputs": [
    {
     "name": "stdout",
     "output_type": "stream",
     "text": [
      "                          Weight\n",
      "PLZ8_ANTG3              0.227734\n",
      "PLZ8_ANTG4              0.222014\n",
      "PLZ8_BAUMAX             0.217338\n",
      "CAMEO_INTL_2015_WEALTH  0.203131\n",
      "ORTSGR_KLS9             0.200428\n",
      "                     Weight\n",
      "FINANZ_MINIMALIST -0.201799\n",
      "KBA05_GBZ         -0.213855\n",
      "KBA05_ANTG1       -0.220980\n",
      "PLZ8_ANTG1        -0.227113\n",
      "MOBI_REGIO        -0.238124\n"
     ]
    }
   ],
   "source": [
    "# Map weights for the first principal component to corresponding feature names\n",
    "#and then print the linked values, sorted by weight.\n",
    "print(pca_map_feat(1).head())\n",
    "print(pca_map_feat(1).tail())"
   ]
  },
  {
   "cell_type": "code",
   "execution_count": 57,
   "metadata": {},
   "outputs": [
    {
     "name": "stdout",
     "output_type": "stream",
     "text": [
      "                        Weight\n",
      "ALTERSKATEGORIE_GROB  0.270555\n",
      "FINANZ_VORSORGER      0.243049\n",
      "SEMIO_ERL             0.234510\n",
      "SEMIO_LUST            0.189214\n",
      "RETOURTYP_BK_S        0.164974\n",
      "                                Weight\n",
      "SEMIO_TRADV                  -0.238615\n",
      "SEMIO_PFLICHT                -0.239672\n",
      "FINANZ_SPARER                -0.249858\n",
      "PRAEGENDE_JUGENDJAHRE_DECADE -0.260038\n",
      "SEMIO_REL                    -0.264179\n"
     ]
    }
   ],
   "source": [
    "# Map weights for the second principal component to corresponding feature names\n",
    "# and then print the linked values, sorted by weight.\n",
    "\n",
    "print(pca_map_feat(2).head())\n",
    "print(pca_map_feat(2).tail())"
   ]
  },
  {
   "cell_type": "code",
   "execution_count": 58,
   "metadata": {},
   "outputs": [
    {
     "name": "stdout",
     "output_type": "stream",
     "text": [
      "                     Weight\n",
      "SEMIO_VERT         0.347693\n",
      "SEMIO_SOZ          0.263604\n",
      "SEMIO_FAM          0.250363\n",
      "SEMIO_KULT         0.235216\n",
      "FINANZ_MINIMALIST  0.161437\n",
      "              Weight\n",
      "SEMIO_RAT  -0.216038\n",
      "SEMIO_KRIT -0.275527\n",
      "SEMIO_DOM  -0.313629\n",
      "SEMIO_KAEM -0.338826\n",
      "ANREDE_KZ  -0.369652\n"
     ]
    }
   ],
   "source": [
    "# Map weights for the third principal component to corresponding feature names\n",
    "# and then print the linked values, sorted by weight.\n",
    "\n",
    "print(pca_map_feat(3).head())\n",
    "print(pca_map_feat(3).tail())"
   ]
  },
  {
   "cell_type": "markdown",
   "metadata": {},
   "source": [
    "### Discussion 2.3: Interpret Principal Components\n",
    "\n",
    "#### First Principal Component\n",
    "In the first principal component, the top 3 weights features are MOBI_REGIO, PLZ8_ANTG3 and PLZ8_ANTG1. These refer to movement patterns, number of 6-10 family houses and number of 1-2 family houses.\n",
    "\n",
    "The first principal component seems related to the region is either city or suburb based on the movement patterns of the people and the type of housing. \n",
    "\n",
    "With large negative weights on movement patterns, number of single-family housing and positive weights on number of multi-family housing (apartments, condos, townhouses, duplexes, and quadruplexes), it indicated the region is a city, with individuals with high movement patterns and large number of apartments, condos, townhouses, duplexes, and quadruplexes.\n",
    "\n",
    "\n",
    "#### Second Principal Component\n",
    "In the second principal component, the top 3 weights features are ALTERSKATEGORIE_GROB, SEMIO_REL and PRAEGENDE_JUGENDJAHRE_DECADE. These refer to Estimated age based on given name analysis, Personality typology - religious and \n",
    "Dominating movement of person's youth based on decade.\n",
    "\n",
    "The second principal component seems related to the individual's age and their personality outlook. \n",
    "\n",
    "With large positive weights on age and negative weights on religious and the decade the individual lived through, it indicated older people are tends to be more religious.\n",
    "\n",
    "#### Third Principal Component\n",
    "In the third principal component, the top 3 weights features are ANREDE_KZ, SEMIO_VERT and SEMIO_KAEM. These refer to Gender, Personality typology - dreamful and Personality typology - combative attitude.\n",
    "\n",
    "The third principal component seems related to the individual's gender and their personality outlook.\n",
    "\n",
    "With large negative weights on gender and combative attitude and positive weights on dreamful personality, it indicated male are tends to be more combative and dominant-minded and less of a dreamer.\n"
   ]
  },
  {
   "cell_type": "markdown",
   "metadata": {},
   "source": [
    "## Step 3: Clustering\n",
    "\n",
    "### Step 3.1: Apply Clustering to General Population\n",
    "\n",
    "You've assessed and cleaned the demographics data, then scaled and transformed them. Now, it's time to see how the data clusters in the principal components space. In this substep, you will apply k-means clustering to the dataset and use the average within-cluster distances from each point to their assigned cluster's centroid to decide on a number of clusters to keep.\n",
    "\n",
    "- Use sklearn's [KMeans](http://scikit-learn.org/stable/modules/generated/sklearn.cluster.KMeans.html#sklearn.cluster.KMeans) class to perform k-means clustering on the PCA-transformed data.\n",
    "- Then, compute the average difference from each point to its assigned cluster's center. **Hint**: The KMeans object's `.score()` method might be useful here, but note that in sklearn, scores tend to be defined so that larger is better. Try applying it to a small, toy dataset, or use an internet search to help your understanding.\n",
    "- Perform the above two steps for a number of different cluster counts. You can then see how the average distance decreases with an increasing number of clusters. However, each additional cluster provides a smaller net benefit. Use this fact to select a final number of clusters in which to group the data. **Warning**: because of the large size of the dataset, it can take a long time for the algorithm to resolve. The more clusters to fit, the longer the algorithm will take. You should test for cluster counts through at least 10 clusters to get the full picture, but you shouldn't need to test for a number of clusters above about 30.\n",
    "- Once you've selected a final number of clusters to use, re-fit a KMeans instance to perform the clustering operation. Make sure that you also obtain the cluster assignments for the general demographics data, since you'll be using them in the final Step 3.3."
   ]
  },
  {
   "cell_type": "code",
   "execution_count": 59,
   "metadata": {},
   "outputs": [],
   "source": [
    "kmeans_scores = []\n",
    "\n",
    "# Over a number of different cluster counts...   \n",
    "# Test for 15 cluster counts\n",
    "for k in range (1, 16):\n",
    "    # Run k-means clustering on the data and...\n",
    "    \n",
    "    # Create an instance of KMeans with k number of clusters and a random state to make the randomness deterministic\n",
    "    kmeans = KMeans(n_clusters = k, random_state=0) \n",
    "    # Run the KMeans algorithm with the pca dataset\n",
    "    kmeans.fit(azdias_pca_transformed) \n",
    "    \n",
    "    # Compute the Sum of Squared Distances\n",
    "    kmeans_scores.append(kmeans.inertia_)    "
   ]
  },
  {
   "cell_type": "code",
   "execution_count": 60,
   "metadata": {},
   "outputs": [
    {
     "data": {
      "image/png": "[encoded data removed]",
      "text/plain": [
       "<matplotlib.figure.Figure at 0x7f29e4f17710>"
      ]
     },
     "metadata": {
      "needs_background": "light"
     },
     "output_type": "display_data"
    }
   ],
   "source": [
    "# Investigate the change in within-cluster distance across number of clusters.\n",
    "# HINT: Use matplotlib's plot function to visualize this relationship.\n",
    "\n",
    "# To visualize the 'Elbow' to determine the number of clusters\n",
    "plt.figure(figsize=(15, 8))\n",
    "plt.plot(range(1, 16), kmeans_scores, '-o')\n",
    "plt.xticks(range(1, 16))\n",
    "plt.title('The Elbow Method to Determine Number of Clusters')\n",
    "plt.xlabel('Number of clusters')\n",
    "plt.ylabel('Sum of Squared Distances')\n",
    "plt.show()"
   ]
  },
  {
   "cell_type": "code",
   "execution_count": 61,
   "metadata": {},
   "outputs": [],
   "source": [
    "# Re-fit the k-means model with the selected number of clusters and obtain\n",
    "# cluster predictions for the general population demographics data.\n",
    "\n",
    "# Creating an instance of the model with optimal number of cluster as 11 based on the Elbow method\n",
    "kmeans = KMeans(n_clusters = 11, random_state=0) \n",
    "\n",
    "# Run the KMeans algorithm with the pca dataset\n",
    "azdias_kmeans_model = kmeans.fit(azdias_pca_transformed) \n",
    "\n",
    "# Predict the azdias pca dataset with the AZDIAS KMeans model and return their labels\n",
    "azdias_kmeans_pred = azdias_kmeans_model.predict(azdias_pca_transformed)"
   ]
  },
  {
   "cell_type": "markdown",
   "metadata": {},
   "source": [
    "##### Discussion 3.1: Apply Clustering to General Population\n",
    "\n",
    "From the above diagram, although there is no definite 'elbow' plotted, I noticed that adding new clusters after cluster 11 will no longer create a substantial decrease in the distance. Therefore, I had decided to segment the population into 11 clusters."
   ]
  },
  {
   "cell_type": "markdown",
   "metadata": {},
   "source": [
    "### Step 3.2: Apply All Steps to the Customer Data\n",
    "\n",
    "Now that you have clusters and cluster centers for the general population, it's time to see how the customer data maps on to those clusters. Take care to not confuse this for re-fitting all of the models to the customer data. Instead, you're going to use the fits from the general population to clean, transform, and cluster the customer data. In the last step of the project, you will interpret how the general population fits apply to the customer data.\n",
    "\n",
    "- Don't forget when loading in the customers data, that it is semicolon (`;`) delimited.\n",
    "- Apply the same feature wrangling, selection, and engineering steps to the customer demographics using the `clean_data()` function you created earlier. (You can assume that the customer demographics data has similar meaning behind missing data patterns as the general demographics data.)\n",
    "- Use the sklearn objects from the general demographics data, and apply their transformations to the customers data. That is, you should not be using a `.fit()` or `.fit_transform()` method to re-fit the old objects, nor should you be creating new sklearn objects! Carry the data through the feature scaling, PCA, and clustering steps, obtaining cluster assignments for all of the data in the customer demographics data."
   ]
  },
  {
   "cell_type": "code",
   "execution_count": 62,
   "metadata": {},
   "outputs": [
    {
     "name": "stdout",
     "output_type": "stream",
     "text": [
      "<class 'pandas.core.frame.DataFrame'>\n",
      "RangeIndex: 191652 entries, 0 to 191651\n",
      "Data columns (total 85 columns):\n",
      "AGER_TYP                 191652 non-null int64\n",
      "ALTERSKATEGORIE_GROB     191652 non-null int64\n",
      "ANREDE_KZ                191652 non-null int64\n",
      "CJT_GESAMTTYP            188439 non-null float64\n",
      "FINANZ_MINIMALIST        191652 non-null int64\n",
      "FINANZ_SPARER            191652 non-null int64\n",
      "FINANZ_VORSORGER         191652 non-null int64\n",
      "FINANZ_ANLEGER           191652 non-null int64\n",
      "FINANZ_UNAUFFAELLIGER    191652 non-null int64\n",
      "FINANZ_HAUSBAUER         191652 non-null int64\n",
      "FINANZTYP                191652 non-null int64\n",
      "GEBURTSJAHR              191652 non-null int64\n",
      "GFK_URLAUBERTYP          188439 non-null float64\n",
      "GREEN_AVANTGARDE         191652 non-null int64\n",
      "HEALTH_TYP               191652 non-null int64\n",
      "LP_LEBENSPHASE_FEIN      188439 non-null float64\n",
      "LP_LEBENSPHASE_GROB      188439 non-null float64\n",
      "LP_FAMILIE_FEIN          188439 non-null float64\n",
      "LP_FAMILIE_GROB          188439 non-null float64\n",
      "LP_STATUS_FEIN           188439 non-null float64\n",
      "LP_STATUS_GROB           188439 non-null float64\n",
      "NATIONALITAET_KZ         191652 non-null int64\n",
      "PRAEGENDE_JUGENDJAHRE    191652 non-null int64\n",
      "RETOURTYP_BK_S           188439 non-null float64\n",
      "SEMIO_SOZ                191652 non-null int64\n",
      "SEMIO_FAM                191652 non-null int64\n",
      "SEMIO_REL                191652 non-null int64\n",
      "SEMIO_MAT                191652 non-null int64\n",
      "SEMIO_VERT               191652 non-null int64\n",
      "SEMIO_LUST               191652 non-null int64\n",
      "SEMIO_ERL                191652 non-null int64\n",
      "SEMIO_KULT               191652 non-null int64\n",
      "SEMIO_RAT                191652 non-null int64\n",
      "SEMIO_KRIT               191652 non-null int64\n",
      "SEMIO_DOM                191652 non-null int64\n",
      "SEMIO_KAEM               191652 non-null int64\n",
      "SEMIO_PFLICHT            191652 non-null int64\n",
      "SEMIO_TRADV              191652 non-null int64\n",
      "SHOPPER_TYP              191652 non-null int64\n",
      "SOHO_KZ                  145056 non-null float64\n",
      "TITEL_KZ                 145056 non-null float64\n",
      "VERS_TYP                 191652 non-null int64\n",
      "ZABEOTYP                 191652 non-null int64\n",
      "ALTER_HH                 145056 non-null float64\n",
      "ANZ_PERSONEN             145056 non-null float64\n",
      "ANZ_TITEL                145056 non-null float64\n",
      "HH_EINKOMMEN_SCORE       188684 non-null float64\n",
      "KK_KUNDENTYP             79715 non-null float64\n",
      "W_KEIT_KIND_HH           137910 non-null float64\n",
      "WOHNDAUER_2008           145056 non-null float64\n",
      "ANZ_HAUSHALTE_AKTIV      141725 non-null float64\n",
      "ANZ_HH_TITEL             139542 non-null float64\n",
      "GEBAEUDETYP              141725 non-null float64\n",
      "KONSUMNAEHE              145001 non-null float64\n",
      "MIN_GEBAEUDEJAHR         141725 non-null float64\n",
      "OST_WEST_KZ              141725 non-null object\n",
      "WOHNLAGE                 141725 non-null float64\n",
      "CAMEO_DEUG_2015          141224 non-null object\n",
      "CAMEO_DEU_2015           141224 non-null object\n",
      "CAMEO_INTL_2015          141224 non-null object\n",
      "KBA05_ANTG1              135672 non-null float64\n",
      "KBA05_ANTG2              135672 non-null float64\n",
      "KBA05_ANTG3              135672 non-null float64\n",
      "KBA05_ANTG4              135672 non-null float64\n",
      "KBA05_BAUMAX             135672 non-null float64\n",
      "KBA05_GBZ                135672 non-null float64\n",
      "BALLRAUM                 141693 non-null float64\n",
      "EWDICHTE                 141693 non-null float64\n",
      "INNENSTADT               141693 non-null float64\n",
      "GEBAEUDETYP_RASTER       141725 non-null float64\n",
      "KKK                      137392 non-null float64\n",
      "MOBI_REGIO               135672 non-null float64\n",
      "ONLINE_AFFINITAET        188439 non-null float64\n",
      "REGIOTYP                 137392 non-null float64\n",
      "KBA13_ANZAHL_PKW         140371 non-null float64\n",
      "PLZ8_ANTG1               138888 non-null float64\n",
      "PLZ8_ANTG2               138888 non-null float64\n",
      "PLZ8_ANTG3               138888 non-null float64\n",
      "PLZ8_ANTG4               138888 non-null float64\n",
      "PLZ8_BAUMAX              138888 non-null float64\n",
      "PLZ8_HHZ                 138888 non-null float64\n",
      "PLZ8_GBZ                 138888 non-null float64\n",
      "ARBEIT                   141176 non-null float64\n",
      "ORTSGR_KLS9              141176 non-null float64\n",
      "RELAT_AB                 141176 non-null float64\n",
      "dtypes: float64(49), int64(32), object(4)\n",
      "memory usage: 124.3+ MB\n"
     ]
    }
   ],
   "source": [
    "# Load in the customer demographics data.\n",
    "customers = pd.read_csv('Udacity_CUSTOMERS_Subset.csv', sep=';')\n",
    "\n",
    "#customers before cleaning\n",
    "customers.info()"
   ]
  },
  {
   "cell_type": "code",
   "execution_count": 63,
   "metadata": {
    "scrolled": false
   },
   "outputs": [
    {
     "name": "stdout",
     "output_type": "stream",
     "text": [
      "<class 'pandas.core.frame.DataFrame'>\n",
      "Int64Index: 139068 entries, 0 to 191651\n",
      "Data columns (total 67 columns):\n",
      "ALTERSKATEGORIE_GROB              138856 non-null float64\n",
      "ANREDE_KZ                         139068 non-null int64\n",
      "FINANZ_MINIMALIST                 139068 non-null int64\n",
      "FINANZ_SPARER                     139068 non-null int64\n",
      "FINANZ_VORSORGER                  139068 non-null int64\n",
      "FINANZ_ANLEGER                    139068 non-null int64\n",
      "FINANZ_UNAUFFAELLIGER             139068 non-null int64\n",
      "FINANZ_HAUSBAUER                  139068 non-null int64\n",
      "GREEN_AVANTGARDE                  139068 non-null int64\n",
      "HEALTH_TYP                        136957 non-null float64\n",
      "LP_LEBENSPHASE_GROB               130116 non-null float64\n",
      "RETOURTYP_BK_S                    136332 non-null float64\n",
      "SEMIO_SOZ                         139068 non-null int64\n",
      "SEMIO_FAM                         139068 non-null int64\n",
      "SEMIO_REL                         139068 non-null int64\n",
      "SEMIO_MAT                         139068 non-null int64\n",
      "SEMIO_VERT                        139068 non-null int64\n",
      "SEMIO_LUST                        139068 non-null int64\n",
      "SEMIO_ERL                         139068 non-null int64\n",
      "SEMIO_KULT                        139068 non-null int64\n",
      "SEMIO_RAT                         139068 non-null int64\n",
      "SEMIO_KRIT                        139068 non-null int64\n",
      "SEMIO_DOM                         139068 non-null int64\n",
      "SEMIO_KAEM                        139068 non-null int64\n",
      "SEMIO_PFLICHT                     139068 non-null int64\n",
      "SEMIO_TRADV                       139068 non-null int64\n",
      "SOHO_KZ                           139068 non-null float64\n",
      "VERS_TYP                          136957 non-null float64\n",
      "ANZ_PERSONEN                      139068 non-null float64\n",
      "ANZ_TITEL                         139068 non-null float64\n",
      "HH_EINKOMMEN_SCORE                139068 non-null float64\n",
      "W_KEIT_KIND_HH                    131565 non-null float64\n",
      "WOHNDAUER_2008                    139068 non-null float64\n",
      "ANZ_HAUSHALTE_AKTIV               136856 non-null float64\n",
      "ANZ_HH_TITEL                      137080 non-null float64\n",
      "KONSUMNAEHE                       139063 non-null float64\n",
      "MIN_GEBAEUDEJAHR                  139068 non-null float64\n",
      "OST_WEST_KZ                       139068 non-null int64\n",
      "WOHNLAGE                          139068 non-null float64\n",
      "KBA05_ANTG1                       135193 non-null float64\n",
      "KBA05_ANTG2                       135193 non-null float64\n",
      "KBA05_ANTG3                       135193 non-null float64\n",
      "KBA05_ANTG4                       135193 non-null float64\n",
      "KBA05_GBZ                         135191 non-null float64\n",
      "BALLRAUM                          139038 non-null float64\n",
      "EWDICHTE                          139038 non-null float64\n",
      "INNENSTADT                        139038 non-null float64\n",
      "GEBAEUDETYP_RASTER                139068 non-null float64\n",
      "KKK                               130387 non-null float64\n",
      "MOBI_REGIO                        135193 non-null float64\n",
      "ONLINE_AFFINITAET                 136332 non-null float64\n",
      "REGIOTYP                          130387 non-null float64\n",
      "KBA13_ANZAHL_PKW                  138631 non-null float64\n",
      "PLZ8_ANTG1                        138263 non-null float64\n",
      "PLZ8_ANTG2                        138263 non-null float64\n",
      "PLZ8_ANTG3                        138263 non-null float64\n",
      "PLZ8_ANTG4                        138263 non-null float64\n",
      "PLZ8_BAUMAX                       138263 non-null float64\n",
      "PLZ8_HHZ                          138263 non-null float64\n",
      "PLZ8_GBZ                          138263 non-null float64\n",
      "ARBEIT                            138526 non-null float64\n",
      "ORTSGR_KLS9                       138547 non-null float64\n",
      "RELAT_AB                          138526 non-null float64\n",
      "PRAEGENDE_JUGENDJAHRE_DECADE      138033 non-null float64\n",
      "PRAEGENDE_JUGENDJAHRE_MOVEMENT    138033 non-null float64\n",
      "CAMEO_INTL_2015_WEALTH            138792 non-null float64\n",
      "CAMEO_INTL_2015_LIFE_STAGE        138792 non-null float64\n",
      "dtypes: float64(44), int64(23)\n",
      "memory usage: 72.1 MB\n"
     ]
    }
   ],
   "source": [
    "# Cleaning the dataset\n",
    "customers = clean_data(customers)\n",
    "\n",
    "#customers after cleaning\n",
    "customers.info()"
   ]
  },
  {
   "cell_type": "code",
   "execution_count": 64,
   "metadata": {},
   "outputs": [],
   "source": [
    "# Apply preprocessing, feature transformation, and clustering from the general\n",
    "# demographics onto the customer data, obtaining cluster predictions for the\n",
    "# customer demographics data.\n",
    "\n",
    "# Applying Imputer to replace all NaN values using the mean along the axis\n",
    "customers_imputer_transformed = pd.DataFrame(azdias_imputer.transform(customers), columns=customers.columns)"
   ]
  },
  {
   "cell_type": "code",
   "execution_count": 65,
   "metadata": {},
   "outputs": [],
   "source": [
    "# Apply feature scaling to the customer dataset.\n",
    "customers_ss_transformed = pd.DataFrame(azdias_scaler.transform(customers_imputer_transformed), columns=customers.columns)"
   ]
  },
  {
   "cell_type": "code",
   "execution_count": 66,
   "metadata": {},
   "outputs": [],
   "source": [
    "# Apply PCA to the dataset while selecting for 20 components to retain.\n",
    "customers_pca_transformed = azdias_pca_20.transform(customers_ss_transformed)"
   ]
  },
  {
   "cell_type": "code",
   "execution_count": 67,
   "metadata": {},
   "outputs": [],
   "source": [
    "# Predict the customers pca dataset with the AZDIAS KMeans model and return their labels\n",
    "customers_kmeans_pred = azdias_kmeans_model.predict(customers_pca_transformed)"
   ]
  },
  {
   "cell_type": "markdown",
   "metadata": {},
   "source": [
    "### Step 3.3: Compare Customer Data to Demographics Data\n",
    "\n",
    "At this point, you have clustered data based on demographics of the general population of Germany, and seen how the customer data for a mail-order sales company maps onto those demographic clusters. In this final substep, you will compare the two cluster distributions to see where the strongest customer base for the company is.\n",
    "\n",
    "Consider the proportion of persons in each cluster for the general population, and the proportions for the customers. If we think the company's customer base to be universal, then the cluster assignment proportions should be fairly similar between the two. If there are only particular segments of the population that are interested in the company's products, then we should see a mismatch from one to the other. If there is a higher proportion of persons in a cluster for the customer data compared to the general population (e.g. 5% of persons are assigned to a cluster for the general population, but 15% of the customer data is closest to that cluster's centroid) then that suggests the people in that cluster to be a target audience for the company. On the other hand, the proportion of the data in a cluster being larger in the general population than the customer data (e.g. only 2% of customers closest to a population centroid that captures 6% of the data) suggests that group of persons to be outside of the target demographics.\n",
    "\n",
    "Take a look at the following points in this step:\n",
    "\n",
    "- Compute the proportion of data points in each cluster for the general population and the customer data. Visualizations will be useful here: both for the individual dataset proportions, but also to visualize the ratios in cluster representation between groups. Seaborn's [`countplot()`](https://seaborn.pydata.org/generated/seaborn.countplot.html) or [`barplot()`](https://seaborn.pydata.org/generated/seaborn.barplot.html) function could be handy.\n",
    "  - Recall the analysis you performed in step 1.1.3 of the project, where you separated out certain data points from the dataset if they had more than a specified threshold of missing values. If you found that this group was qualitatively different from the main bulk of the data, you should treat this as an additional data cluster in this analysis. Make sure that you account for the number of data points in this subset, for both the general population and customer datasets, when making your computations!\n",
    "- Which cluster or clusters are overrepresented in the customer dataset compared to the general population? Select at least one such cluster and infer what kind of people might be represented by that cluster. Use the principal component interpretations from step 2.3 or look at additional components to help you make this inference. Alternatively, you can use the `.inverse_transform()` method of the PCA and StandardScaler objects to transform centroids back to the original data space and interpret the retrieved values directly.\n",
    "- Perform a similar investigation for the underrepresented clusters. Which cluster or clusters are underrepresented in the customer dataset compared to the general population, and what kinds of people are typified by these clusters?"
   ]
  },
  {
   "cell_type": "code",
   "execution_count": 68,
   "metadata": {},
   "outputs": [
    {
     "data": {
      "image/png": "[encoded data removed]",
      "text/plain": [
       "<matplotlib.figure.Figure at 0x7f29e5054da0>"
      ]
     },
     "metadata": {
      "needs_background": "light"
     },
     "output_type": "display_data"
    }
   ],
   "source": [
    "# Compare the proportion of data in each cluster for the customer data to the\n",
    "# proportion of data in each cluster for the general population.\n",
    "\n",
    "fig, axs = plt.subplots(1, 2, figsize=(20, 10))\n",
    "\n",
    "sns.countplot(azdias_kmeans_pred, ax=axs[0]).set_title(\"General Population Clusters\")\n",
    "sns.countplot(customers_kmeans_pred, ax=axs[1]).set_title(\"Customers Clusters\")\n",
    "plt.show()"
   ]
  },
  {
   "cell_type": "code",
   "execution_count": 69,
   "metadata": {},
   "outputs": [
    {
     "name": "stdout",
     "output_type": "stream",
     "text": [
      "Cluster = 0 , Azdias = 12.29440120678413 , Customers = 11.514898803605222\n",
      "Difference = -0.7795024031789083\n",
      "Cluster = 1 , Azdias = 11.812925429549802 , Customers = 20.256920165506624\n",
      "Difference = 8.44399473595682\n",
      "Cluster = 2 , Azdias = 11.276752852510079 , Customers = 1.0512557333932064\n",
      "Difference = -10.225497119116872\n",
      "Cluster = 3 , Azdias = 13.289739024295455 , Customers = 10.500529236295987\n",
      "Difference = -2.789209787999468\n",
      "Cluster = 4 , Azdias = 12.745793744125491 , Customers = 1.987843602655804\n",
      "Difference = -10.757950141469689\n",
      "Cluster = 5 , Azdias = 8.483041832976125 , Customers = 37.67681303525035\n",
      "Difference = 29.19377120227422\n",
      "Cluster = 6 , Azdias = 9.082835424526332 , Customers = 1.0408313821086057\n",
      "Difference = -8.042004042417727\n",
      "Cluster = 7 , Azdias = 8.978047871214946 , Customers = 1.9718061391410333\n",
      "Difference = -7.006241732073913\n",
      "Cluster = 8 , Azdias = 16.59947116830925 , Customers = 19.74933444526414\n",
      "Difference = 3.1498632769548895\n",
      "Cluster = 9 , Azdias = 6.789312245318026 , Customers = 4.6717131218526475\n",
      "Difference = -2.117599123465378\n",
      "Cluster = 10 , Azdias = 0.9420804071744929 , Customers = 1.0929531385316098\n",
      "Difference = 0.15087273135711687\n"
     ]
    }
   ],
   "source": [
    "# To find the difference in percentage between the customers clusters and general population clusters\n",
    "azdias_cluster_precent = []\n",
    "customers_cluster_percent = []\n",
    "diff_percent = []\n",
    "\n",
    "for k in range (0, 11):\n",
    "    azdias_cluster_precent.append(np.count_nonzero(azdias_kmeans_pred == k) / np.count_nonzero(azdias_kmeans_pred))\n",
    "    customers_cluster_percent.append(np.count_nonzero(customers_kmeans_pred == k) / np.count_nonzero(customers_kmeans_pred))\n",
    "    diff_percent.append(customers_cluster_percent[k] - azdias_cluster_precent[k])\n",
    "    print('Cluster =', k, ', Azdias =', azdias_cluster_precent[k] * 100, ', Customers =', customers_cluster_percent[k] * 100)\n",
    "    print('Difference =', diff_percent[k] * 100)"
   ]
  },
  {
   "cell_type": "code",
   "execution_count": 70,
   "metadata": {},
   "outputs": [],
   "source": [
    "# Transform cluster back to original data space\n",
    "def transform_cluster(cluster):\n",
    "    # Print all the rows in the dataframe\n",
    "    pd.set_option(\"max_rows\", None)\n",
    "    \n",
    "    print(pd.DataFrame(\n",
    "        azdias_scaler.inverse_transform(\n",
    "            azdias_pca_20.inverse_transform(\n",
    "                azdias_kmeans_model.cluster_centers_[cluster])\n",
    "        ), columns=['Weight'], index=azdias.columns))"
   ]
  },
  {
   "cell_type": "code",
   "execution_count": 71,
   "metadata": {},
   "outputs": [
    {
     "name": "stdout",
     "output_type": "stream",
     "text": [
      "Customer cluster 5 is the most overrepresented\n",
      "                                     Weight\n",
      "ALTERSKATEGORIE_GROB               3.231887\n",
      "ANREDE_KZ                          1.085803\n",
      "FINANZ_MINIMALIST                  4.786690\n",
      "FINANZ_SPARER                      1.591740\n",
      "FINANZ_VORSORGER                   4.261629\n",
      "FINANZ_ANLEGER                     1.454166\n",
      "FINANZ_UNAUFFAELLIGER              2.188334\n",
      "FINANZ_HAUSBAUER                   1.988949\n",
      "GREEN_AVANTGARDE                   0.956808\n",
      "HEALTH_TYP                         2.050953\n",
      "LP_LEBENSPHASE_GROB                7.145056\n",
      "RETOURTYP_BK_S                     3.854140\n",
      "SEMIO_SOZ                          5.255363\n",
      "SEMIO_FAM                          4.791343\n",
      "SEMIO_REL                          3.749256\n",
      "SEMIO_MAT                          3.751541\n",
      "SEMIO_VERT                         6.173611\n",
      "SEMIO_LUST                         5.125541\n",
      "SEMIO_ERL                          4.085562\n",
      "SEMIO_KULT                         4.810612\n",
      "SEMIO_RAT                          2.743585\n",
      "SEMIO_KRIT                         3.258890\n",
      "SEMIO_DOM                          3.401974\n",
      "SEMIO_KAEM                         2.761366\n",
      "SEMIO_PFLICHT                      3.298269\n",
      "SEMIO_TRADV                        3.191683\n",
      "SOHO_KZ                           -0.000673\n",
      "VERS_TYP                           1.510636\n",
      "ANZ_PERSONEN                       2.279229\n",
      "ANZ_TITEL                          0.013324\n",
      "HH_EINKOMMEN_SCORE                 2.363874\n",
      "W_KEIT_KIND_HH                     4.214415\n",
      "WOHNDAUER_2008                     8.593191\n",
      "ANZ_HAUSHALTE_AKTIV                1.737598\n",
      "ANZ_HH_TITEL                       0.029351\n",
      "KONSUMNAEHE                        3.324035\n",
      "MIN_GEBAEUDEJAHR                1993.126944\n",
      "OST_WEST_KZ                        0.083917\n",
      "WOHNLAGE                           3.125415\n",
      "KBA05_ANTG1                        2.701422\n",
      "KBA05_ANTG2                        1.148523\n",
      "KBA05_ANTG3                        0.091353\n",
      "KBA05_ANTG4                        0.008844\n",
      "KBA05_GBZ                          4.081948\n",
      "BALLRAUM                           3.930536\n",
      "EWDICHTE                           4.052633\n",
      "INNENSTADT                         4.553586\n",
      "GEBAEUDETYP_RASTER                 3.928343\n",
      "KKK                                2.124988\n",
      "MOBI_REGIO                         4.120096\n",
      "ONLINE_AFFINITAET                  3.185321\n",
      "REGIOTYP                           3.458459\n",
      "KBA13_ANZAHL_PKW                 692.630374\n",
      "PLZ8_ANTG1                         2.787669\n",
      "PLZ8_ANTG2                         2.569840\n",
      "PLZ8_ANTG3                         1.182183\n",
      "PLZ8_ANTG4                         0.384143\n",
      "PLZ8_BAUMAX                        1.259431\n",
      "PLZ8_HHZ                           3.720153\n",
      "PLZ8_GBZ                           3.924041\n",
      "ARBEIT                             3.071925\n",
      "ORTSGR_KLS9                        5.509278\n",
      "RELAT_AB                           3.036457\n",
      "PRAEGENDE_JUGENDJAHRE_DECADE      65.638394\n",
      "PRAEGENDE_JUGENDJAHRE_MOVEMENT     0.955945\n",
      "CAMEO_INTL_2015_WEALTH             2.066790\n",
      "CAMEO_INTL_2015_LIFE_STAGE         3.538421\n"
     ]
    }
   ],
   "source": [
    "# What kinds of people are part of a cluster that is overrepresented in the\n",
    "# customer data compared to the general population?\n",
    "\n",
    "# The greatest positive difference between their precentage shows overrepresentation in customers data \n",
    "overrepresented_cluster = diff_percent.index(max(diff_percent))\n",
    "\n",
    "print('Customer cluster', overrepresented_cluster, 'is the most overrepresented')\n",
    "\n",
    "# Transform the cluster back to original data space for evaluation\n",
    "transform_cluster(overrepresented_cluster)"
   ]
  },
  {
   "cell_type": "code",
   "execution_count": 73,
   "metadata": {},
   "outputs": [
    {
     "name": "stdout",
     "output_type": "stream",
     "text": [
      "Customer cluster 4 is the most underrepresented\n",
      "                                     Weight\n",
      "ALTERSKATEGORIE_GROB               1.818329\n",
      "ANREDE_KZ                          1.982125\n",
      "FINANZ_MINIMALIST                  2.359030\n",
      "FINANZ_SPARER                      3.922365\n",
      "FINANZ_VORSORGER                   2.304627\n",
      "FINANZ_ANLEGER                     4.379561\n",
      "FINANZ_UNAUFFAELLIGER              3.797752\n",
      "FINANZ_HAUSBAUER                   2.816162\n",
      "GREEN_AVANTGARDE                   0.196086\n",
      "HEALTH_TYP                         2.257885\n",
      "LP_LEBENSPHASE_GROB                5.414760\n",
      "RETOURTYP_BK_S                     2.428357\n",
      "SEMIO_SOZ                          2.999924\n",
      "SEMIO_FAM                          3.614429\n",
      "SEMIO_REL                          5.026288\n",
      "SEMIO_MAT                          4.717768\n",
      "SEMIO_VERT                         2.564761\n",
      "SEMIO_LUST                         3.016984\n",
      "SEMIO_ERL                          4.441876\n",
      "SEMIO_KULT                         3.926284\n",
      "SEMIO_RAT                          5.954463\n",
      "SEMIO_KRIT                         5.433825\n",
      "SEMIO_DOM                          5.955587\n",
      "SEMIO_KAEM                         5.624309\n",
      "SEMIO_PFLICHT                      5.903849\n",
      "SEMIO_TRADV                        5.470310\n",
      "SOHO_KZ                           -0.000481\n",
      "VERS_TYP                           1.366654\n",
      "ANZ_PERSONEN                       1.929982\n",
      "ANZ_TITEL                          0.000566\n",
      "HH_EINKOMMEN_SCORE                 4.055348\n",
      "W_KEIT_KIND_HH                     3.286413\n",
      "WOHNDAUER_2008                     7.732435\n",
      "ANZ_HAUSHALTE_AKTIV                3.745271\n",
      "ANZ_HH_TITEL                       0.018140\n",
      "KONSUMNAEHE                        3.670494\n",
      "MIN_GEBAEUDEJAHR                1993.450081\n",
      "OST_WEST_KZ                        0.149143\n",
      "WOHNLAGE                           4.633782\n",
      "KBA05_ANTG1                        2.169832\n",
      "KBA05_ANTG2                        1.394999\n",
      "KBA05_ANTG3                        0.299367\n",
      "KBA05_ANTG4                        0.058530\n",
      "KBA05_GBZ                          3.847776\n",
      "BALLRAUM                           4.903263\n",
      "EWDICHTE                           2.986279\n",
      "INNENSTADT                         5.466894\n",
      "GEBAEUDETYP_RASTER                 3.973451\n",
      "KKK                                2.623042\n",
      "MOBI_REGIO                         3.735869\n",
      "ONLINE_AFFINITAET                  3.516396\n",
      "REGIOTYP                           4.146259\n",
      "KBA13_ANZAHL_PKW                 707.954609\n",
      "PLZ8_ANTG1                         2.852687\n",
      "PLZ8_ANTG2                         2.413005\n",
      "PLZ8_ANTG3                         0.973347\n",
      "PLZ8_ANTG4                         0.252886\n",
      "PLZ8_BAUMAX                        1.075747\n",
      "PLZ8_HHZ                           3.547486\n",
      "PLZ8_GBZ                           3.939642\n",
      "ARBEIT                             2.750983\n",
      "ORTSGR_KLS9                        3.992248\n",
      "RELAT_AB                           2.505289\n",
      "PRAEGENDE_JUGENDJAHRE_DECADE      85.603689\n",
      "PRAEGENDE_JUGENDJAHRE_MOVEMENT     0.204839\n",
      "CAMEO_INTL_2015_WEALTH             2.550663\n",
      "CAMEO_INTL_2015_LIFE_STAGE         3.160390\n"
     ]
    }
   ],
   "source": [
    "# What kinds of people are part of a cluster that is underrepresented in the\n",
    "# customer data compared to the general population?\n",
    "\n",
    "# The greatest negative difference between their precentage shows underrepresentation in customers data\n",
    "underrepresented_cluster = diff_percent.index(min(diff_percent))\n",
    "\n",
    "print('Customer cluster', underrepresented_cluster, 'is the most underrepresented')\n",
    "\n",
    "# Transform the cluster back to original data space for evaluation\n",
    "transform_cluster(underrepresented_cluster)"
   ]
  },
  {
   "cell_type": "markdown",
   "metadata": {},
   "source": [
    "### Discussion 3.3: Compare Customer Data to Demographics Data\n",
    "\n",
    "#### Overrepresented cluster\n",
    "Cluster 5 is the most overrepresented in the customers dataset. It represented 37.68% in the customer dataset while representing only 8.48% in the general population dataset. A total difference of 29.2%. Therefore, this cluster is the segment of the population that will have the most interests in the services provided by the company. This is the group of individuals that the company should target at.\n",
    "\n",
    "This customer's cluster is represented mostly by individuals who are male, between 46 and 60 years old and have family with school age children. They usually either save or invest their money but show lack of financial interest. They mostly have very high household income and stay in the West Germany, upper middle class suburb neighbourhoods.\n",
    "\n",
    "#### Underrepresented cluster\n",
    "Cluster 4 is the most underrepresented in the customers dataset. It represented only 1.99% in the customer dataset while representing 12.75% in the general population dataset. A total difference of -10.76%. Therefore, this cluster is the segment of the population that will have the least interests in the services provided by the company.\n",
    "\n",
    "This customer's cluster is represented mostly by individuals who are female, between 30 and 45 years old and have family with school age children. They seldom save or invest their money but show high in financial interest. They mostly have average household income and stay in the West Germany, middle class suburb neighbourhoods."
   ]
  },
  {
   "cell_type": "markdown",
   "metadata": {},
   "source": [
    "> Congratulations on making it this far in the project! Before you finish, make sure to check through the entire notebook from top to bottom to make sure that your analysis follows a logical flow and all of your findings are documented in **Discussion** cells. Once you've checked over all of your work, you should export the notebook as an HTML document to submit for evaluation. You can do this from the menu, navigating to **File -> Download as -> HTML (.html)**. You will submit both that document and this notebook for your project submission."
   ]
  }
 ],
 "metadata": {
  "kernelspec": {
   "display_name": "Python 3",
   "language": "python",
   "name": "python3"
  },
  "language_info": {
   "codemirror_mode": {
    "name": "ipython",
    "version": 3
   },
   "file_extension": ".py",
   "mimetype": "text/x-python",
   "name": "python",
   "nbconvert_exporter": "python",
   "pygments_lexer": "ipython3",
   "version": "3.6.3"
  }
 },
 "nbformat": 4,
 "nbformat_minor": 2
}
